{
 "cells": [
  {
   "cell_type": "markdown",
   "metadata": {},
   "source": [
    "This notebook was written in python 3; in astroconda3.6 environment.\n",
    "\n",
    "This notebook preps the M33 data for running a probabilistic kinematic model.  \n",
    "- It reads in the zspec.maskname.fits files and makes a combined table with all the spectroscopic data results.  \n",
    "- It reads in the photometry files used to make the masks, and it matches the photometry to the spectroscopic data file, adding photometric columns.\n",
    "- It reads in and parses Padova isochrones, for the purpose of isolating RGB stars for the kinematic analysis.\n",
    "  \n",
    "\n",
    "To do:\n",
    "- It will implement CMD selection boxes based on the Padova isochrones, making selection boxes that are as consistent as possible across the 3 different filter sets (2 HST ACS, 1 CFHT/MegaCam).\n",
    "- It will use these selection boxes to estimate MW contamination using Nicholas' PAndAS based contamination model.\n",
    "- It will identify objects observed on more than one mask, and deal with their entries appropriately.  It will also use these duplicate mesaurements to estimate systematic uncertainties in the velocity measurements.\n",
    "- It will write an astropy data table with the data necessary for running a kinematic analysis. "
   ]
  },
  {
   "cell_type": "code",
   "execution_count": 109,
   "metadata": {
    "collapsed": true
   },
   "outputs": [],
   "source": [
    "import matplotlib\n",
    "import numpy as np\n",
    "import matplotlib.pyplot as plt\n",
    "import re\n",
    "\n",
    "from astropy.io import fits\n",
    "from astropy.table import Table\n",
    "from astropy.io import ascii\n",
    "from astropy import units as u\n",
    "from astropy.time import Time\n",
    "from astropy.coordinates import SkyCoord, EarthLocation\n",
    "from astropy import constants as const\n",
    "from astropy.table import Column, vstack\n",
    "\n",
    "%matplotlib inline"
   ]
  },
  {
   "cell_type": "code",
   "execution_count": 110,
   "metadata": {},
   "outputs": [
    {
     "data": {
      "text/plain": [
       "'0.24.2'"
      ]
     },
     "execution_count": 110,
     "metadata": {},
     "output_type": "execute_result"
    }
   ],
   "source": [
    "import pandas as pd\n",
    "pd.__version__"
   ]
  },
  {
   "cell_type": "code",
   "execution_count": 111,
   "metadata": {
    "collapsed": true
   },
   "outputs": [],
   "source": [
    "# keck = EarthLocation.of_site('Keck')  # the easiest way... but requires internet\n",
    "keck = EarthLocation.from_geodetic(lat=19.8283*u.deg, lon=-155.4783*u.deg, height=4160*u.m)"
   ]
  },
  {
   "cell_type": "code",
   "execution_count": 112,
   "metadata": {
    "collapsed": true
   },
   "outputs": [],
   "source": [
    "# make an M33 sky coordinate object\n",
    "m33coord = SkyCoord.from_name('M33')\n",
    "# and set systemic velocity of m33\n",
    "m33_sys = -180. # pm 1 km/s; vanderMarel et al. 2008\n",
    "m33_dmod = 24.67 # what Anil assumed"
   ]
  },
  {
   "cell_type": "code",
   "execution_count": 113,
   "metadata": {
    "collapsed": true
   },
   "outputs": [],
   "source": [
    "#filename1='2016B/zspec.M33D2A.fits'\n",
    "pathspec = '/Users/kgilbert/M33/Initial_spec_data/'\n",
    "filenames = [pathspec+'2016B/zspec.M33D2A.fits', pathspec+'2016B/zspec.M33D2B.fits', \n",
    "             pathspec+'2016B/zspec.M33D3A.fits', pathspec+'2016B/zspec.M33D3B.fits',\n",
    "             pathspec+'2016B/zspec.M33D3D.fits',\n",
    "             pathspec+'2016B/zspec.M33D4A.fits', pathspec+'2016B/zspec.M33D4B.fits',\n",
    "             pathspec+'2018B/zspec.A1M33P.fits', pathspec+'2018B/zspec.B1M33P.fits']\n",
    "# 2 of 10(?) from 2018B\n",
    "# 7 of 10(?) from 2016B (anything from 2015B?)"
   ]
  },
  {
   "cell_type": "code",
   "execution_count": 114,
   "metadata": {
    "collapsed": true
   },
   "outputs": [],
   "source": [
    "for f in filenames:\n",
    "    td = Table.read(f, hdu=1)\n",
    "    #df = td.to_pandas()\n",
    "    if f == filenames[0]:\n",
    "        tbdata = td\n",
    "        hdulist=fits.open(f)\n",
    "        hdr=hdulist[1].header\n",
    "        hdulist.close()\n",
    "    else:\n",
    "        tbdata = vstack((tbdata,td))"
   ]
  },
  {
   "cell_type": "code",
   "execution_count": 115,
   "metadata": {
    "scrolled": true
   },
   "outputs": [
    {
     "name": "stdout",
     "output_type": "stream",
     "text": [
      "<Table length=2678>\n",
      "    name      dtype  shape n_bad\n",
      "------------ ------- ----- -----\n",
      "       CLASS  bytes6           0\n",
      "    SUBCLASS bytes17           0\n",
      "     OBJNAME bytes13           0\n",
      "    SLITNAME  bytes3           0\n",
      "    MASKNAME  bytes6           0\n",
      "        DATE bytes10           0\n",
      "         MJD float64           0\n",
      "           Z float32           0\n",
      "       Z_ERR float32           0\n",
      "       RCHI2 float32           0\n",
      "         DOF   int32           0\n",
      "   RCHI2DIFF float32           0\n",
      "       TFILE bytes21           0\n",
      "     TCOLUMN   int32 (10,)     0\n",
      "  TMPL_RCHI2 float32 (35,)     0\n",
      "      TMPL_Z float32 (35,)     0\n",
      "  TMPL_TFILE bytes17 (35,)     0\n",
      "       NPOLY   int32           0\n",
      "       THETA float32 (10,)     0\n",
      "       VDISP float32           0\n",
      "   VDISP_ERR float32           0\n",
      "    ZQUALITY   int16           0\n",
      "    EIGENDIR bytes51           0\n",
      "          RA bytes11           0\n",
      "         DEC bytes11           0\n",
      "         PRI   int16           0\n",
      "        IMAG float32           0\n",
      "        RMAG float32           0\n",
      " SPEC1D_FILE bytes47           0\n",
      "ZSPEC1D_FILE bytes48           0\n",
      " SPEC2D_FILE bytes32           0\n",
      "     COMMENT  bytes1           0\n",
      "     AIRMASS float32           0\n",
      "          SN float32           1\n",
      "       ABAND float32           0\n"
     ]
    }
   ],
   "source": [
    "tbdata.info()"
   ]
  },
  {
   "cell_type": "code",
   "execution_count": 116,
   "metadata": {
    "scrolled": true
   },
   "outputs": [
    {
     "name": "stdout",
     "output_type": "stream",
     "text": [
      "comments = ['', ' *** End of mandatory fields ***', '', '', ' *** Column names ***', '', '', ' *** Column formats ***', '', '', ' *** Column dimensions (2 D or greater) ***', '', '', ' *** End of mandatory fields ***', '', '', ' *** Column names ***', '', '', ' *** Column formats ***', '', '', ' *** Column dimensions (2 D or greater) ***', '', '', ' *** End of mandatory fields ***', '', '', ' *** Column names ***', '', '', ' *** Column formats ***', '', '', ' *** Column dimensions (2 D or greater) ***', '', '', ' *** End of mandatory fields ***', '', '', ' *** Column names ***', '', '', ' *** Column formats ***', '', '', ' *** Column dimensions (2 D or greater) ***', '', '', ' *** End of mandatory fields ***', '', '', ' *** Column names ***', '', '', ' *** Column formats ***', '', '', ' *** Column dimensions (2 D or greater) ***', '', '', ' *** End of mandatory fields ***', '', '', ' *** Column names ***', '', '', ' *** Column formats ***', '', '', ' *** Column dimensions (2 D or greater) ***', '', '', ' *** End of mandatory fields ***', '', '', ' *** Column names ***', '', '', ' *** Column formats ***', '', '', ' *** Column dimensions (2 D or greater) ***', '', '', ' *** End of mandatory fields ***', '', '', ' *** Column names ***', '', '', ' *** Column formats ***', '', '', ' *** Column dimensions (2 D or greater) ***', '', '', ' *** End of mandatory fields ***', '', '', ' *** Column names ***', '', '', ' *** Column formats ***', '', '', ' *** Column dimensions (2 D or greater) ***', '']\n"
     ]
    }
   ],
   "source": [
    "# this is supposed to print all the keys, but it doesn't work\n",
    "for key, value in tbdata.meta.items():\n",
    "    print('{0} = {1}'.format(key, value))"
   ]
  },
  {
   "cell_type": "code",
   "execution_count": 117,
   "metadata": {
    "scrolled": true
   },
   "outputs": [
    {
     "data": {
      "text/plain": [
       "<bound method Header.keys of XTENSION= 'BINTABLE'           /Binary table written by MWRFITS v1.11           \n",
       "BITPIX  =                    8 /Required value                                  \n",
       "NAXIS   =                    2 /Required value                                  \n",
       "NAXIS1  =                 1284 /Number of bytes per row                         \n",
       "NAXIS2  =                  294 /Number of rows                                  \n",
       "PCOUNT  =                    0 /Normally 0 (no varying arrays)                  \n",
       "GCOUNT  =                    1 /Required value                                  \n",
       "TFIELDS =                   35 /Number of columns in table                      \n",
       "COMMENT                                                                         \n",
       "COMMENT  *** End of mandatory fields ***                                        \n",
       "COMMENT                                                                         \n",
       "COMMENT                                                                         \n",
       "COMMENT  *** Column names ***                                                   \n",
       "COMMENT                                                                         \n",
       "TTYPE1  = 'CLASS   '           /                                                \n",
       "TTYPE2  = 'SUBCLASS'           /                                                \n",
       "TTYPE3  = 'OBJNAME '           /                                                \n",
       "TTYPE4  = 'SLITNAME'           /                                                \n",
       "TTYPE5  = 'MASKNAME'           /                                                \n",
       "TTYPE6  = 'DATE    '           /                                                \n",
       "TTYPE7  = 'MJD     '           /                                                \n",
       "TTYPE8  = 'Z       '           /                                                \n",
       "TTYPE9  = 'Z_ERR   '           /                                                \n",
       "TTYPE10 = 'RCHI2   '           /                                                \n",
       "TTYPE11 = 'DOF     '           /                                                \n",
       "TTYPE12 = 'RCHI2DIFF'          /                                                \n",
       "TTYPE13 = 'TFILE   '           /                                                \n",
       "TTYPE14 = 'TCOLUMN '           /                                                \n",
       "TTYPE15 = 'TMPL_RCHI2'         /                                                \n",
       "TTYPE16 = 'TMPL_Z  '           /                                                \n",
       "TTYPE17 = 'TMPL_TFILE'         /                                                \n",
       "TTYPE18 = 'NPOLY   '           /                                                \n",
       "TTYPE19 = 'THETA   '           /                                                \n",
       "TTYPE20 = 'VDISP   '           /                                                \n",
       "TTYPE21 = 'VDISP_ERR'          /                                                \n",
       "TTYPE22 = 'ZQUALITY'           /                                                \n",
       "TTYPE23 = 'EIGENDIR'           /                                                \n",
       "TTYPE24 = 'RA      '           /                                                \n",
       "TTYPE25 = 'DEC     '           /                                                \n",
       "TTYPE26 = 'PRI     '           /                                                \n",
       "TTYPE27 = 'IMAG    '           /                                                \n",
       "TTYPE28 = 'RMAG    '           /                                                \n",
       "TTYPE29 = 'SPEC1D_FILE'        /                                                \n",
       "TTYPE30 = 'ZSPEC1D_FILE'       /                                                \n",
       "TTYPE31 = 'SPEC2D_FILE'        /                                                \n",
       "TTYPE32 = 'COMMENT '           /                                                \n",
       "TTYPE33 = 'AIRMASS '           /                                                \n",
       "TTYPE34 = 'SN      '           /                                                \n",
       "TTYPE35 = 'ABAND   '           /                                                \n",
       "COMMENT                                                                         \n",
       "COMMENT  *** Column formats ***                                                 \n",
       "COMMENT                                                                         \n",
       "TFORM1  = '6A      '           /                                                \n",
       "TFORM2  = '17A     '           /                                                \n",
       "TFORM3  = '9A      '           /                                                \n",
       "TFORM4  = '3A      '           /                                                \n",
       "TFORM5  = '6A      '           /                                                \n",
       "TFORM6  = '10A     '           /                                                \n",
       "TFORM7  = 'D       '           /                                                \n",
       "TFORM8  = 'E       '           /                                                \n",
       "TFORM9  = 'E       '           /                                                \n",
       "TFORM10 = 'E       '           /                                                \n",
       "TFORM11 = 'J       '           /                                                \n",
       "TFORM12 = 'E       '           /                                                \n",
       "TFORM13 = '21A     '           /                                                \n",
       "TFORM14 = '10J     '           /                                                \n",
       "TFORM15 = '35E     '           /                                                \n",
       "TFORM16 = '35E     '           /                                                \n",
       "TFORM17 = '595A    '           /                                                \n",
       "TFORM18 = 'J       '           /                                                \n",
       "TFORM19 = '10E     '           /                                                \n",
       "TFORM20 = 'E       '           /                                                \n",
       "TFORM21 = 'E       '           /                                                \n",
       "TFORM22 = 'I       '           /                                                \n",
       "TFORM23 = '51A     '           /                                                \n",
       "TFORM24 = '11A     '           /                                                \n",
       "TFORM25 = '11A     '           /                                                \n",
       "TFORM26 = 'I       '           /                                                \n",
       "TFORM27 = 'E       '           /                                                \n",
       "TFORM28 = 'E       '           /                                                \n",
       "TFORM29 = '43A     '           /                                                \n",
       "TFORM30 = '44A     '           /                                                \n",
       "TFORM31 = '32A     '           /                                                \n",
       "TFORM32 = 'A       '           /                                                \n",
       "TFORM33 = 'E       '           /                                                \n",
       "TFORM34 = 'E       '           /                                                \n",
       "TFORM35 = 'E       '           /                                                \n",
       "COMMENT                                                                         \n",
       "COMMENT  *** Column dimensions (2 D or greater) ***                             \n",
       "COMMENT                                                                         \n",
       "TDIM17  = '(17, 35)'           /                                                >"
      ]
     },
     "execution_count": 117,
     "metadata": {},
     "output_type": "execute_result"
    }
   ],
   "source": [
    "hdr.keys"
   ]
  },
  {
   "cell_type": "code",
   "execution_count": 118,
   "metadata": {},
   "outputs": [
    {
     "name": "stderr",
     "output_type": "stream",
     "text": [
      "WARNING: IllegalSecondWarning: 'second' was found  to be '60.0', which is not in range [0,60). Treating as 0 sec, +1 min [astropy.coordinates.angle_utilities]\n"
     ]
    },
    {
     "data": {
      "text/latex": [
       "$[14.047066,~14.045295,~5.4296382,~\\dots, 7.8887957,~-8.5953029,~7.8838597] \\; \\mathrm{\\frac{km}{s}}$"
      ],
      "text/plain": [
       "<Quantity [ 14.04706567, 14.04529517,  5.4296382 ,...,   7.88879566,\n",
       "            -8.5953029 ,  7.88385967] km / s>"
      ]
     },
     "execution_count": 118,
     "metadata": {},
     "output_type": "execute_result"
    }
   ],
   "source": [
    "# produce heliocentric correction\n",
    "sc = SkyCoord(ra=tbdata['RA'], dec=tbdata['DEC'], unit=(u.hourangle, u.deg))\n",
    "barycorr = sc.radial_velocity_correction(obstime=Time(tbdata['DATE']), location=keck)  \n",
    "barycorr.to(u.km/u.s)  \n",
    "# radial_velocity_correction returns: The correction with a positive sign. \n",
    "# I.e., add this to an observed radial velocity \n",
    "# to get the barycentric (or heliocentric) velocity.\n",
    "heliocorr = sc.radial_velocity_correction('heliocentric', obstime=Time(tbdata['DATE']), location=keck)  \n",
    "heliocorr.to(u.km/u.s)  "
   ]
  },
  {
   "cell_type": "code",
   "execution_count": 119,
   "metadata": {},
   "outputs": [
    {
     "name": "stdout",
     "output_type": "stream",
     "text": [
      "<SkyCoord (ICRS): (ra, dec) in deg\n",
      "    ( 23.30604167,  30.47597222)>\n",
      "2016-09-25 57656.457784\n",
      "01:33:13.45\n"
     ]
    }
   ],
   "source": [
    "# for testing astropy heliocentric correction against what we used in IDL consolidate.pro\n",
    "print(sc[0])\n",
    "print(tbdata['DATE'][0], tbdata['MJD'][0])\n",
    "print(tbdata['RA'][0])"
   ]
  },
  {
   "cell_type": "markdown",
   "metadata": {},
   "source": [
    "### Heliocentric and Aband Correction\n",
    "The original idl lines in consolidate.pro were:\n",
    "\n",
    "zspec[i].vraw = c*zspec[i].z\n",
    "\n",
    "zspec[i].vhelio = (helio_deimos(ra, dec, jd=jd))[0]  \n",
    "\n",
    "zspec[i].vcorr = zspec[i].vraw - c*zspec[i].aband - zspec[i].vhelio\n",
    "\n",
    "Marla's helio_deimos.pro (in /kidl/mgidl/mg_deimos/helio_deimos.pro) claims this is the correction to ADD to the measured velocity to convert to heliocentric frame, \n",
    "but Raja (or Evan? or Marla?) determined/insisted it needed \n",
    "subtracted, despite that it\n",
    "calls idlutils heliocentric, which also claims it will: \n",
    "\"Compute correction term to add to velocities to convert to heliocentric.\"  \n",
    "\n",
    "Let's make sure we get this right when switching to astropy:\n",
    "A quick comparison of calling helio_deimos.pro, which defaults to the location of Keck, with RA, Dec, and JD of (MJD+2.4M) first entry in tbdata, returns \n",
    "\n",
    "IDL> helio_deimos(23.30604167,  30.47597222, jd=2457656.457784)\n",
    "\n",
    "    -14.052753341442054\n",
    "\n",
    "This is in fact the opposite sign returned by the astropy radial_velocity_correction method."
   ]
  },
  {
   "cell_type": "code",
   "execution_count": 120,
   "metadata": {
    "collapsed": true
   },
   "outputs": [],
   "source": [
    "# make arrays of velocity, heliocentric velocity, \n",
    "# and heliocentric velocity corrected for mis-centering in the slit (aband correction)\n",
    "\n",
    "vraw = Column(tbdata['Z']*const.c.to(u.km/u.s), name='VRAW')\n",
    "verr = Column(tbdata['Z_ERR']*const.c.to(u.km/u.s), name='VERR')\n",
    "vhelio = Column(vraw + heliocorr, name='VHELIO')\n",
    "vcorr = Column(vraw + heliocorr - tbdata['ABAND']*const.c.to(u.km/u.s), name ='VCORR')  \n",
    "# aband has been computed the same way as previously"
   ]
  },
  {
   "cell_type": "code",
   "execution_count": 121,
   "metadata": {
    "collapsed": true
   },
   "outputs": [],
   "source": [
    "# add to the data table\n",
    "tbdata.add_columns([vraw, verr, vhelio, vcorr])"
   ]
  },
  {
   "cell_type": "code",
   "execution_count": 122,
   "metadata": {},
   "outputs": [
    {
     "name": "stdout",
     "output_type": "stream",
     "text": [
      "<class 'str'>\n",
      "<class 'list'>\n",
      "-1\n",
      "-1\n"
     ]
    }
   ],
   "source": [
    "print(type(tbdata['OBJNAME'][0]))\n",
    "print(type(list(tbdata['OBJNAME'])))\n",
    "print(tbdata['OBJNAME'][0].find('serendip'))\n",
    "print(np.core.defchararray.find(tbdata['OBJNAME'][0],'serendip'))"
   ]
  },
  {
   "cell_type": "code",
   "execution_count": 123,
   "metadata": {},
   "outputs": [
    {
     "name": "stdout",
     "output_type": "stream",
     "text": [
      "[-1 -1  0 ..., -1  0 -1]\n"
     ]
    }
   ],
   "source": [
    "print(np.core.defchararray.find(list(tbdata['OBJNAME']),'serendip'))"
   ]
  },
  {
   "cell_type": "code",
   "execution_count": 124,
   "metadata": {},
   "outputs": [
    {
     "name": "stdout",
     "output_type": "stream",
     "text": [
      "992 990\n",
      "2678\n",
      "1115 1914\n"
     ]
    }
   ],
   "source": [
    "zqualityflag = 3\n",
    "# having trouble adding a string comparison to the logic to create a mask\n",
    "\n",
    "# this worked before I used hstack to combine two record arrays\n",
    "#mask = (tbdata['ZQUALITY'] >= zqualityflag) & (tbdata['OBJNAME'].find('serendip') == -1)\n",
    "\n",
    "# this worked at one point without making the astropy column object a list in second comparison statement\n",
    "# but doesn't work now.  Don't know why.\n",
    "mask = (tbdata['ZQUALITY'] >= zqualityflag) & (np.core.defchararray.find(list(tbdata['OBJNAME']),'serendip') == -1) \\\n",
    "        & (tbdata['VCORR'] < 500)\n",
    "mask_alt = (tbdata['ZQUALITY'] >= zqualityflag) & (np.core.defchararray.find(list(tbdata['OBJNAME']),'serendip') == -1) \\\n",
    "            & (tbdata['VCORR'] < 500) & (tbdata['VCORR'] > -500)\n",
    "\n",
    "print(len(tbdata[mask]), len(tbdata[mask_alt]))\n",
    "\n",
    "mask1 = tbdata['ZQUALITY'] >= zqualityflag\n",
    "mask2 = np.core.defchararray.find(list(tbdata['OBJNAME']),'serendip') == -1\n",
    "print(len(tbdata))\n",
    "print(len(tbdata[mask1]), len(tbdata[mask2]))"
   ]
  },
  {
   "cell_type": "code",
   "execution_count": 125,
   "metadata": {},
   "outputs": [
    {
     "data": {
      "text/plain": [
       "Text(0, 0.5, 'Dec')"
      ]
     },
     "execution_count": 125,
     "metadata": {},
     "output_type": "execute_result"
    },
    {
     "data": {
      "image/png": "[encoded data removed]",
      "text/plain": [
       "<Figure size 432x288 with 2 Axes>"
      ]
     },
     "metadata": {
      "needs_background": "light"
     },
     "output_type": "display_data"
    }
   ],
   "source": [
    "colorvals = tbdata['VCORR'][mask_alt]\n",
    "cmap_choice = 'viridis'\n",
    "\n",
    "vc = plt.scatter(sc[mask_alt].ra.deg, sc[mask_alt].dec.deg, c=colorvals, s=10)\n",
    "plt.scatter(m33coord.ra.deg, m33coord.dec.deg, s=500, marker=\"*\", c='fuchsia')\n",
    "\n",
    "cbar = plt.colorbar(vc)\n",
    "cbar.ax.set_ylabel('Velocity (km s$^{-1}$)')\n",
    "cbar.set_alpha(1)\n",
    "cbar.draw_all()\n",
    "\n",
    "plt.xlim(23.7,23.1)\n",
    "plt.xlabel('RA')\n",
    "plt.ylabel('Dec')"
   ]
  },
  {
   "cell_type": "code",
   "execution_count": 126,
   "metadata": {
    "scrolled": true
   },
   "outputs": [
    {
     "data": {
      "text/plain": [
       "[<matplotlib.lines.Line2D at 0x136243080>]"
      ]
     },
     "execution_count": 126,
     "metadata": {},
     "output_type": "execute_result"
    },
    {
     "data": {
      "image/png": "[encoded data removed]",
      "text/plain": [
       "<Figure size 432x288 with 1 Axes>"
      ]
     },
     "metadata": {
      "needs_background": "light"
     },
     "output_type": "display_data"
    }
   ],
   "source": [
    "nbins = 50\n",
    "plt.hist(tbdata['VCORR'][mask], bins=nbins)\n",
    "plt.plot([m33_sys, m33_sys], [0,150], color = 'darkgrey', linestyle = '--')"
   ]
  },
  {
   "cell_type": "code",
   "execution_count": 127,
   "metadata": {},
   "outputs": [
    {
     "name": "stdout",
     "output_type": "stream",
     "text": [
      "Number of stars with recovered velocities from 16B masks:  771\n",
      "Number of stars with recovered velocities from 16B masks, with HST photometry:  602\n",
      "Number of stars with recovered velocties with CFHT photometry:  169\n"
     ]
    },
    {
     "data": {
      "text/plain": [
       "<matplotlib.legend.Legend at 0x131e8fd68>"
      ]
     },
     "execution_count": 127,
     "metadata": {},
     "output_type": "execute_result"
    },
    {
     "data": {
      "image/png": "[encoded data removed]",
      "text/plain": [
       "<Figure size 432x288 with 1 Axes>"
      ]
     },
     "metadata": {
      "needs_background": "light"
     },
     "output_type": "display_data"
    }
   ],
   "source": [
    "tbdata_good = tbdata[mask_alt]\n",
    "m = (np.core.defchararray.find(list(tbdata_good['MASKNAME']),'M33D') > -1)\n",
    "tbdata_good_16b = tbdata_good[m]\n",
    "print('Number of stars with recovered velocities from 16B masks: ', len(tbdata_good_16b['VCORR']))\n",
    "\n",
    "# excluding CFHT data from 2016B\n",
    "m = (np.array(tbdata_good_16b['OBJNAME']).astype(int) > 5000000)\n",
    "\n",
    "print('Number of stars with recovered velocities from 16B masks, with HST photometry: ', \n",
    "      len(tbdata_good_16b['VCORR'][m]))\n",
    "print('Number of stars with recovered velocties with CFHT photometry: ', \n",
    "      len(tbdata_good_16b['VCORR']) - len(tbdata_good_16b['VCORR'][m]))\n",
    "nbins = 20\n",
    "plt.hist(tbdata_good_16b['VCORR'], bins=nbins, label = '2016B masks')\n",
    "plt.hist(tbdata_good_16b['VCORR'][m], bins=nbins, alpha=0.5, label = '2016B masks, HST')\n",
    "plt.plot([m33_sys, m33_sys], [0,180], color = 'darkgrey', linestyle = '--')\n",
    "plt.legend()"
   ]
  },
  {
   "cell_type": "code",
   "execution_count": 128,
   "metadata": {
    "scrolled": true
   },
   "outputs": [
    {
     "name": "stdout",
     "output_type": "stream",
     "text": [
      "Number of stars with recovered velocities from 16B masks:  219\n",
      "Number of stars with recovered velocities from 18B masks, with HST photometry:  193\n",
      "Number of stars with recovered velocties with CFHT photometry:  26\n"
     ]
    },
    {
     "data": {
      "text/plain": [
       "<matplotlib.legend.Legend at 0x14a9a6978>"
      ]
     },
     "execution_count": 128,
     "metadata": {},
     "output_type": "execute_result"
    },
    {
     "data": {
      "image/png": "[encoded data removed]",
      "text/plain": [
       "<Figure size 432x288 with 1 Axes>"
      ]
     },
     "metadata": {
      "needs_background": "light"
     },
     "output_type": "display_data"
    }
   ],
   "source": [
    "# 2018B masks\n",
    "m = (np.core.defchararray.find(list(tbdata_good['MASKNAME']),'M33D') == -1)\n",
    "tbdata_good_18b = tbdata_good[m]\n",
    "print('Number of stars with recovered velocities from 16B masks: ', len(tbdata_good_18b['VCORR']))\n",
    "\n",
    "# Excluding CFHT data from 2018B\n",
    "m = (np.core.defchararray.find(list(tbdata_good_18b['OBJNAME']),'CFHT') == -1) \n",
    "\n",
    "print('Number of stars with recovered velocities from 18B masks, with HST photometry: ', \n",
    "      len(tbdata_good_18b['VCORR'][m]))\n",
    "print('Number of stars with recovered velocties with CFHT photometry: ', \n",
    "      len(tbdata_good_18b['VCORR']) - len(tbdata_good_18b['VCORR'][m]))\n",
    "nbins = 20\n",
    "plt.hist(tbdata_good_18b['VCORR'], bins=nbins, label = '2018B masks')\n",
    "plt.hist(tbdata_good_18b['VCORR'][m], bins=nbins, alpha=0.5, label = '2018B masks, HST')\n",
    "plt.plot([m33_sys, m33_sys], [0,60], color = 'darkgrey', linestyle = '--')\n",
    "plt.legend()"
   ]
  },
  {
   "cell_type": "code",
   "execution_count": 129,
   "metadata": {},
   "outputs": [
    {
     "name": "stdout",
     "output_type": "stream",
     "text": [
      "Number of stars from CFHT photometry in 2018B data with recovered velocities:  26\n"
     ]
    },
    {
     "data": {
      "text/plain": [
       "[<matplotlib.lines.Line2D at 0x14f8ad470>]"
      ]
     },
     "execution_count": 129,
     "metadata": {},
     "output_type": "execute_result"
    },
    {
     "data": {
      "image/png": "[encoded data removed]",
      "text/plain": [
       "<Figure size 432x288 with 1 Axes>"
      ]
     },
     "metadata": {
      "needs_background": "light"
     },
     "output_type": "display_data"
    }
   ],
   "source": [
    "m = (tbdata['ZQUALITY'] >= zqualityflag) & (np.core.defchararray.find(list(tbdata['OBJNAME']),'CFHT') > -1) \\\n",
    "        & (tbdata['VCORR'] < 500) & (tbdata['VCORR'] > -500)\n",
    "\n",
    "#print(tbdata['VCORR'][m])\n",
    "#print(m)\n",
    "print('Number of stars from CFHT photometry in 2018B data with recovered velocities: ',len(tbdata['VCORR'][m]))\n",
    "nbins = 10\n",
    "plt.hist(tbdata['VCORR'][m], bins=nbins)\n",
    "plt.plot([m33_sys, m33_sys], [0,10], color = 'darkgrey', linestyle = '--')"
   ]
  },
  {
   "cell_type": "code",
   "execution_count": 130,
   "metadata": {
    "collapsed": true
   },
   "outputs": [],
   "source": [
    "plt.close()"
   ]
  },
  {
   "cell_type": "markdown",
   "metadata": {},
   "source": [
    "## Match Spectroscopic Targets with Photometry\n",
    "\n",
    "This is more exciting than normal due to the very mixed bag of photometry that was used between CFHT, HST, 2015B/2016B masks, and 2018B masks.  \n",
    "\n",
    "2015B/2016B masks: CFHT/MegaCam (g', original i' filter) plus a lot of separate HST pointings, from different programs, using different filter combos. (F475W or F606W; + F814W)\n",
    "\n",
    "2018B masks: Initial PHAT-M33 redux (combined brick 2 and 3 catalog supplied by Meredith&Dustin (which I believe comes from single field photometry) and the brick 1 half brick photometry) supplemented by the same CFHT/MegCam imaging as used in 2015B/2016B.  HST input catalog came from Anil.  See README in /Users/kgilbert/M33/Kinematic_analysis/Mask_design_photometry for more info.\n",
    "\n",
    "Notes on the photometry files.\n",
    "\n",
    "#### CFHT MegaCam, 2016B masks:\n",
    "\n",
    "The gzipped M33.GI.matchcat.fits.gz file has fewer rows than the non-gzipped one. So does the extcorr file (it's number of rows matches that of M33.GI.matchcat.fits.gz.  I got 109 failed matches when using M33.GI.matchcat.fits.gz.  When I instead used M33.GI.matchcat.fits, there were no failed matches.\n",
    "\n",
    "The magnitude and color columns in the .dsiminp files from 2015B (M33/ObservingPrep_and_Photometry/Keck_15B) match the values of mag2_auto and mag1_auto - mag2_auto in M33.GI.matchcat.fits\n",
    "\n",
    "CFHT targets were placed in list 2 (best targets, most isolated) and list 4.\n",
    "\n",
    "#### HST photometry, 2016B masks:\n",
    "\n",
    "If I joined a fits file with all the HST photometry I used to make the masks, I can't find it.  Turns out you need both HST_16b_all_nolist3dups.input.fits and HST_all_list3.input.fits to have all the disk HST fields.  Despite the difference in naming convention, I believe these files both have duplicates (in overlapping HST fields) removed from list one and list 3 (the 2 HST lists used in the mask design).  \n",
    "\n",
    "I found (what I think are) the originals of these on pakalolo in\n",
    "\n",
    "/Users/kgilbert/M33/ObservingPrep_and_Photometry/Keck_15B/M33_HST_data/HST_all_list3.input.fits\n",
    "\n",
    "and\n",
    "\n",
    "/Users/kgilbert/M33/ObservingPrep_and_Photometry/Keck_16B/Observing_Prep/M33_HST_data/HST_16b_all_nolist3dups.input.fits\n",
    "\n",
    "The magnitude column in the .dsiminp file matches the mag2_acs column in the fits file (for HST_all_list3.input.fits)\n",
    "\n",
    "#### CFHT MegaCam, HST 2018B masks:\n",
    "\n",
    "The fraction of targets from CFHT imaging with successful velocities is small.  Nevertheless, should include them if we can. Amanda says the object names for CFHT-photometry targets in the dsimulator files/zspec files of the 2018B masks are the *index* of the object in the CFHT photometry file she used to design the masks.  Of course, this means I need to use the same file I sent her when she was desining the masks.\n",
    "\n",
    "I verified that the RA/Decs are spot on between 2018B/2016B_files/M33.GI.matchcat.fits.gz and the zspec RA/Decs when you assume that the zspec object name is the index of the object in this file.  It appears that _this_ is the file that was used for 2018B mask design, and not the orginal (unzipped) version of the file.\n",
    "\n",
    "Similarly, the numeric parts of the object names in the dsimulator files/zspec files for 2018B are the *index* of the object in the HST catalog used to design the masks.  I verified that the RA/Decs are spot on between ../ObservingPrep/HST_fall18_refine.fits and the zspec RA/Decs when you assume that the zspec object name is the index of the object in this file.  This works for everything except Kristen Garafoli's xray targets (\"KG[number]\")"
   ]
  },
  {
   "cell_type": "code",
   "execution_count": 131,
   "metadata": {
    "collapsed": true
   },
   "outputs": [],
   "source": [
    "pathphot = '/Users/kgilbert/M33/Kinematic_analysis/Mask_design_photometry/'\n",
    "photfile16b_hst = [pathphot+'HST_16b_all_nolist3dups.input.fits',  # has no objnames with values < 10000000   \n",
    "                   pathphot+'HST_all_list3.input.fits']  # has objnames from 5000000 to > 9000000\n",
    "#photfile16b_cfht = '/Users/kgilbert/M33/Initial_spec_data/2016B_files/M33.GI.matchcat.extcorr.fits.gz'\n",
    "photfile16b_cfht = pathphot+'M33.GI.matchcat.fits' \n",
    "photfile18b_hst = pathphot+'HST_fall18_refine.fits'\n",
    "photfile18b_cfht = pathphot+'M33.GI.matchcat.fits.gz' "
   ]
  },
  {
   "cell_type": "code",
   "execution_count": 132,
   "metadata": {
    "collapsed": true
   },
   "outputs": [],
   "source": [
    "for f in photfile16b_hst:\n",
    "    td = Table.read(f, hdu=1)\n",
    "    #df = td.to_pandas()\n",
    "    if f == photfile16b_hst[0]:\n",
    "        phot16b_hst = td\n",
    "        hdulist=fits.open(f)\n",
    "        hdr_phot16b_hst=hdulist[1].header\n",
    "        hdulist.close()\n",
    "    else:\n",
    "        phot16b_hst = vstack((phot16b_hst,td))"
   ]
  },
  {
   "cell_type": "code",
   "execution_count": 133,
   "metadata": {
    "scrolled": true
   },
   "outputs": [
    {
     "name": "stdout",
     "output_type": "stream",
     "text": [
      "<bound method Header.keys of XTENSION= 'BINTABLE'           /Binary table written by MWRFITS v1.6a           \n",
      "BITPIX  =                    8 /Required value                                  \n",
      "NAXIS   =                    2 /Required value                                  \n",
      "NAXIS1  =                  112 /Number of bytes per row                         \n",
      "NAXIS2  =                32510 /Number of rows                                  \n",
      "PCOUNT  =                    0 /Normally 0 (no varying arrays)                  \n",
      "GCOUNT  =                    1 /Required value                                  \n",
      "TFIELDS =                   23 /Number of columns in table                      \n",
      "COMMENT                                                                         \n",
      "COMMENT  *** End of mandatory fields ***                                        \n",
      "COMMENT                                                                         \n",
      "COMMENT                                                                         \n",
      "COMMENT  *** Column names ***                                                   \n",
      "COMMENT                                                                         \n",
      "TTYPE1  = 'MASKLIST '          /                                                \n",
      "TTYPE2  = 'MASKPRI '           /                                                \n",
      "TTYPE3  = 'OBJNAME '           /                                                \n",
      "TTYPE4  = 'X       '           /                                                \n",
      "TTYPE5  = 'Y       '           /                                                \n",
      "TTYPE6  = 'RA      '           /                                                \n",
      "TTYPE7  = 'DEC     '           /                                                \n",
      "TTYPE8  = 'MAG1_ACS '          /                                                \n",
      "TTYPE9  = 'MAG1_STD '          /                                                \n",
      "TTYPE10 = 'MAG1_ERR '          /                                                \n",
      "TTYPE11 = 'CHI1    '           /                                                \n",
      "TTYPE12 = 'SHARP1  '           /                                                \n",
      "TTYPE13 = 'CROWD1  '           /                                                \n",
      "TTYPE14 = 'SNR1    '           /                                                \n",
      "TTYPE15 = 'FLAG1   '           /                                                \n",
      "TTYPE16 = 'MAG2_ACS '          /                                                \n",
      "TTYPE17 = 'MAG2_STD '          /                                                \n",
      "TTYPE18 = 'MAG2_ERR '          /                                                \n",
      "TTYPE19 = 'CHI2    '           /                                                \n",
      "TTYPE20 = 'SHARP2  '           /                                                \n",
      "TTYPE21 = 'CROWD2  '           /                                                \n",
      "TTYPE22 = 'SNR2    '           /                                                \n",
      "TTYPE23 = 'FLAG2   '           /                                                \n",
      "COMMENT                                                                         \n",
      "COMMENT  *** Column formats ***                                                 \n",
      "COMMENT                                                                         \n",
      "TFORM1  = '8A      '           /                                                \n",
      "TFORM2  = '8A      '           /                                                \n",
      "TFORM3  = '12A     '           /                                                \n",
      "TFORM4  = 'E       '           /                                                \n",
      "TFORM5  = 'E       '           /                                                \n",
      "TFORM6  = 'D       '           /                                                \n",
      "TFORM7  = 'D       '           /                                                \n",
      "TFORM8  = 'E       '           /                                                \n",
      "TFORM9  = 'E       '           /                                                \n",
      "TFORM10 = 'E       '           /                                                \n",
      "TFORM11 = 'E       '           /                                                \n",
      "TFORM12 = 'E       '           /                                                \n",
      "TFORM13 = 'E       '           /                                                \n",
      "TFORM14 = 'E       '           /                                                \n",
      "TFORM15 = 'I       '           /                                                \n",
      "TFORM16 = 'E       '           /                                                \n",
      "TFORM17 = 'E       '           /                                                \n",
      "TFORM18 = 'E       '           /                                                \n",
      "TFORM19 = 'E       '           /                                                \n",
      "TFORM20 = 'E       '           /                                                \n",
      "TFORM21 = 'E       '           /                                                \n",
      "TFORM22 = 'E       '           /                                                \n",
      "TFORM23 = 'I       '           /                                                >\n"
     ]
    }
   ],
   "source": [
    "#phot16b_hst = Table.read(photfile16b_hst)\n",
    "#hdulist=fits.open(photfile16b_hst)\n",
    "#hdr_phot16b_hst=hdulist[1].header\n",
    "#hdulist.close()\n",
    "print(hdr_phot16b_hst.keys)"
   ]
  },
  {
   "cell_type": "code",
   "execution_count": 134,
   "metadata": {},
   "outputs": [
    {
     "name": "stdout",
     "output_type": "stream",
     "text": [
      "MASKLIST MASKPRI    OBJNAME       X       Y    ... SHARP2 CROWD2  SNR2 FLAG2\n",
      "-------- -------- ------------ ------- ------- ... ------ ------ ----- -----\n",
      "       1      250     14000000 3442.49 4051.65 ...  0.009  0.018 800.3     4\n",
      "       1      250     14000002 2287.95 1364.86 ...  0.002  0.014 522.8     0\n",
      "       1      250     14000003 2194.84 3556.08 ...  0.001  0.017 427.7     0\n",
      "       1      250     14000004 2366.34 3109.87 ... -0.002  0.023 395.9     0\n",
      "       1      250     14000005 1870.83  570.76 ...  0.002  0.017 384.4     0\n",
      "       1      250     14000007 2667.78 2085.43 ... -0.001  0.008 371.2     0\n",
      "       1      250     14000008  3633.1  4179.1 ...    0.0  0.023 366.9     0\n",
      "       1      250     14000010  248.11 1243.88 ...  0.007  0.018 296.8     0\n",
      "       1      250     14000011 3534.63 3655.92 ...  0.003  0.019 283.4     0\n",
      "       1      250     14000012 1606.85  138.23 ... -0.001  0.014 313.3     0\n",
      "     ...      ...          ...     ...     ... ...    ...    ...   ...   ...\n",
      "       1        5      7009112 1452.41  939.31 ...  0.004  0.004  74.6     0\n",
      "       1       15      7009138 3570.81 4111.64 ...  0.002  0.021  71.6     0\n",
      "       1        5      7009145 2462.81 2288.51 ...    0.0  0.014  66.8     0\n",
      "       1       15      7009192 2376.26 2080.71 ... -0.007  0.071  67.2     0\n",
      "       1        5      7009229 1108.34 1388.54 ...  0.007    0.0  65.1     0\n",
      "       1        5      7009286  939.59 1956.23 ...  0.007    0.0  65.0     0\n",
      "       1        5      7009324 1679.09 1168.94 ...  0.002  0.033  64.7     0\n",
      "       3        5      7009410  432.86 1447.98 ...  0.004  0.013  68.9     0\n",
      "       1       15      7009484 1999.16  169.03 ...  0.003    0.0  68.3     0\n",
      "       1        5      7009660 2608.71 2528.84 ...  0.011    0.0  52.8     0\n",
      "       3        5      7010026 2245.42 1793.82 ...  0.002  0.002  60.1     0\n",
      "Length = 60086 rows\n"
     ]
    }
   ],
   "source": [
    "print(phot16b_hst)"
   ]
  },
  {
   "cell_type": "code",
   "execution_count": 135,
   "metadata": {
    "scrolled": true
   },
   "outputs": [
    {
     "name": "stdout",
     "output_type": "stream",
     "text": [
      "      RA     \n",
      "-------------\n",
      "23.9001765076\n",
      "23.8658556763\n",
      "23.8995451752\n",
      "23.8918433014\n",
      "23.8561339203\n",
      "23.8746714417\n",
      "23.9010577026\n",
      "23.8752665344\n",
      "23.8936762634\n",
      "23.8510412994\n",
      "          ...\n",
      " 23.382901651\n",
      "23.3983263794\n",
      "23.3911261383\n",
      "23.3909087006\n",
      "23.3753008667\n",
      "23.3697371307\n",
      "23.3851332489\n",
      "23.3647208038\n",
      "23.3952803436\n",
      "23.3920740906\n",
      "23.3904375854\n",
      "Length = 60086 rows      DEC     \n",
      "-------------\n",
      "30.4940128326\n",
      "30.4661865234\n",
      "30.4753780365\n",
      "30.4754981995\n",
      "30.4569683075\n",
      " 30.474565506\n",
      "30.4971065521\n",
      "30.4389915466\n",
      "30.4933376312\n",
      "30.4514694214\n",
      "          ...\n",
      "30.3106627953\n",
      "  30.25938182\n",
      "30.2883525384\n",
      "30.2914729607\n",
      "30.3063369286\n",
      "30.2996593011\n",
      "30.3066154015\n",
      "30.3086371911\n",
      "30.3182731164\n",
      "30.2845340264\n",
      "30.2958350671\n",
      "Length = 60086 rows\n"
     ]
    }
   ],
   "source": [
    "print(phot16b_hst['RA'], phot16b_hst['DEC'])"
   ]
  },
  {
   "cell_type": "code",
   "execution_count": 136,
   "metadata": {
    "scrolled": true
   },
   "outputs": [
    {
     "name": "stdout",
     "output_type": "stream",
     "text": [
      "<bound method Header.keys of XTENSION= 'BINTABLE'           /Binary table written by MWRFITS v1.6a           \n",
      "BITPIX  =                    8 /Required value                                  \n",
      "NAXIS   =                    2 /Required value                                  \n",
      "NAXIS1  =                  232 /Number of bytes per row                         \n",
      "NAXIS2  =               502166 /Number of rows                                  \n",
      "PCOUNT  =                    0 /Normally 0 (no varying arrays)                  \n",
      "GCOUNT  =                    1 /Required value                                  \n",
      "TFIELDS =                   30 /Number of columns in table                      \n",
      "COMMENT                                                                         \n",
      "COMMENT  *** End of mandatory fields ***                                        \n",
      "COMMENT                                                                         \n",
      "COMMENT                                                                         \n",
      "COMMENT  *** Column names ***                                                   \n",
      "COMMENT                                                                         \n",
      "TTYPE1  = 'OBJNO1  '           /                                                \n",
      "TTYPE2  = 'RA1     '           /                                                \n",
      "TTYPE3  = 'DEC1    '           /                                                \n",
      "TTYPE4  = 'MAG1_AUTO '         /                                                \n",
      "TTYPE5  = 'MAG1ERR_AUTO '      /                                                \n",
      "TTYPE6  = 'MAG1_BEST '         /                                                \n",
      "TTYPE7  = 'MAG1ERR_BEST '      /                                                \n",
      "TTYPE8  = 'MAG1_APER '         /                                                \n",
      "TTYPE9  = 'MAG1ERR_APER '      /                                                \n",
      "TTYPE10 = 'A1_WORLD '          /                                                \n",
      "TTYPE11 = 'A1ERR_WORLD '       /                                                \n",
      "TTYPE12 = 'B1_WORLD '          /                                                \n",
      "TTYPE13 = 'B1ERR_WORLD '       /                                                \n",
      "TTYPE14 = 'ISOAREA1_IMAGE '    /                                                \n",
      "TTYPE15 = 'FLAG1   '           /                                                \n",
      "TTYPE16 = 'OBJNO2  '           /                                                \n",
      "TTYPE17 = 'RA2     '           /                                                \n",
      "TTYPE18 = 'DEC2    '           /                                                \n",
      "TTYPE19 = 'MAG2_AUTO '         /                                                \n",
      "TTYPE20 = 'MAG2ERR_AUTO '      /                                                \n",
      "TTYPE21 = 'MAG2_BEST '         /                                                \n",
      "TTYPE22 = 'MAG2ERR_BEST '      /                                                \n",
      "TTYPE23 = 'MAG2_APER '         /                                                \n",
      "TTYPE24 = 'MAG2ERR_APER '      /                                                \n",
      "TTYPE25 = 'A2_WORLD '          /                                                \n",
      "TTYPE26 = 'A2ERR_WORLD '       /                                                \n",
      "TTYPE27 = 'B2_WORLD '          /                                                \n",
      "TTYPE28 = 'B2ERR_WORLD '       /                                                \n",
      "TTYPE29 = 'ISOAREA2_IMAGE '    /                                                \n",
      "TTYPE30 = 'FLAG2   '           /                                                \n",
      "COMMENT                                                                         \n",
      "COMMENT  *** Column formats ***                                                 \n",
      "COMMENT                                                                         \n",
      "TFORM1  = 'J       '           /                                                \n",
      "TFORM2  = 'D       '           /                                                \n",
      "TFORM3  = 'D       '           /                                                \n",
      "TFORM4  = 'D       '           /                                                \n",
      "TFORM5  = 'D       '           /                                                \n",
      "TFORM6  = 'D       '           /                                                \n",
      "TFORM7  = 'D       '           /                                                \n",
      "TFORM8  = 'D       '           /                                                \n",
      "TFORM9  = 'D       '           /                                                \n",
      "TFORM10 = 'D       '           /                                                \n",
      "TFORM11 = 'D       '           /                                                \n",
      "TFORM12 = 'D       '           /                                                \n",
      "TFORM13 = 'D       '           /                                                \n",
      "TFORM14 = 'D       '           /                                                \n",
      "TFORM15 = 'D       '           /                                                \n",
      "TFORM16 = 'J       '           /                                                \n",
      "TFORM17 = 'D       '           /                                                \n",
      "TFORM18 = 'D       '           /                                                \n",
      "TFORM19 = 'D       '           /                                                \n",
      "TFORM20 = 'D       '           /                                                \n",
      "TFORM21 = 'D       '           /                                                \n",
      "TFORM22 = 'D       '           /                                                \n",
      "TFORM23 = 'D       '           /                                                \n",
      "TFORM24 = 'D       '           /                                                \n",
      "TFORM25 = 'D       '           /                                                \n",
      "TFORM26 = 'D       '           /                                                \n",
      "TFORM27 = 'D       '           /                                                \n",
      "TFORM28 = 'D       '           /                                                \n",
      "TFORM29 = 'D       '           /                                                \n",
      "TFORM30 = 'D       '           /                                                >\n"
     ]
    }
   ],
   "source": [
    "phot16b_cfht = Table.read(photfile16b_cfht)\n",
    "hdulist=fits.open(photfile16b_cfht)\n",
    "hdr_phot16b_cfht=hdulist[1].header\n",
    "hdulist.close()\n",
    "print(hdr_phot16b_cfht.keys)"
   ]
  },
  {
   "cell_type": "code",
   "execution_count": 137,
   "metadata": {
    "scrolled": true
   },
   "outputs": [
    {
     "name": "stdout",
     "output_type": "stream",
     "text": [
      "   RA1    \n",
      "----------\n",
      "23.3923351\n",
      " 23.346682\n",
      "23.3486371\n",
      "23.3408122\n",
      "23.3826236\n",
      "23.3775972\n",
      " 23.379145\n",
      "23.3193851\n",
      "23.3754644\n",
      "23.3910679\n",
      "       ...\n",
      "23.6709677\n",
      "23.6026143\n",
      "23.4850967\n",
      "23.4565947\n",
      "23.6031832\n",
      "23.5578119\n",
      "23.7694239\n",
      "23.6826889\n",
      "23.7683064\n",
      "23.4333954\n",
      "23.5396627\n",
      "Length = 502166 rows    DEC1   \n",
      "----------\n",
      "30.1485663\n",
      "30.1486549\n",
      "30.1486513\n",
      "30.1487527\n",
      "30.1487346\n",
      "30.1487314\n",
      "30.1487801\n",
      "30.1487983\n",
      "30.1488471\n",
      " 30.148867\n",
      "       ...\n",
      "31.1811397\n",
      "31.1808604\n",
      "31.1814164\n",
      "31.1817068\n",
      "31.1804669\n",
      "31.1822682\n",
      "31.1802686\n",
      "31.1813876\n",
      "31.1804528\n",
      " 31.180985\n",
      "31.1774331\n",
      "Length = 502166 rows\n"
     ]
    }
   ],
   "source": [
    "print(phot16b_cfht['RA1'], phot16b_cfht['DEC1'])"
   ]
  },
  {
   "cell_type": "code",
   "execution_count": 138,
   "metadata": {
    "scrolled": true
   },
   "outputs": [
    {
     "name": "stdout",
     "output_type": "stream",
     "text": [
      "<bound method Header.keys of XTENSION= 'BINTABLE'           /Binary table written by MWRFITS v1.6a           \n",
      "BITPIX  =                    8 /Required value                                  \n",
      "NAXIS   =                    2 /Required value                                  \n",
      "NAXIS1  =                  232 /Number of bytes per row                         \n",
      "NAXIS2  =               430337 /Number of rows                                  \n",
      "PCOUNT  =                    0 /Normally 0 (no varying arrays)                  \n",
      "GCOUNT  =                    1 /Required value                                  \n",
      "TFIELDS =                   30 /Number of columns in table                      \n",
      "COMMENT                                                                         \n",
      "COMMENT  *** End of mandatory fields ***                                        \n",
      "COMMENT                                                                         \n",
      "COMMENT                                                                         \n",
      "COMMENT  *** Column names ***                                                   \n",
      "COMMENT                                                                         \n",
      "TTYPE1  = 'OBJNO1  '           /                                                \n",
      "TTYPE2  = 'RA1     '           /                                                \n",
      "TTYPE3  = 'DEC1    '           /                                                \n",
      "TTYPE4  = 'MAG1_AUTO '         /                                                \n",
      "TTYPE5  = 'MAG1ERR_AUTO '      /                                                \n",
      "TTYPE6  = 'MAG1_BEST '         /                                                \n",
      "TTYPE7  = 'MAG1ERR_BEST '      /                                                \n",
      "TTYPE8  = 'MAG1_APER '         /                                                \n",
      "TTYPE9  = 'MAG1ERR_APER '      /                                                \n",
      "TTYPE10 = 'A1_WORLD '          /                                                \n",
      "TTYPE11 = 'A1ERR_WORLD '       /                                                \n",
      "TTYPE12 = 'B1_WORLD '          /                                                \n",
      "TTYPE13 = 'B1ERR_WORLD '       /                                                \n",
      "TTYPE14 = 'ISOAREA1_IMAGE '    /                                                \n",
      "TTYPE15 = 'FLAG1   '           /                                                \n",
      "TTYPE16 = 'OBJNO2  '           /                                                \n",
      "TTYPE17 = 'RA2     '           /                                                \n",
      "TTYPE18 = 'DEC2    '           /                                                \n",
      "TTYPE19 = 'MAG2_AUTO '         /                                                \n",
      "TTYPE20 = 'MAG2ERR_AUTO '      /                                                \n",
      "TTYPE21 = 'MAG2_BEST '         /                                                \n",
      "TTYPE22 = 'MAG2ERR_BEST '      /                                                \n",
      "TTYPE23 = 'MAG2_APER '         /                                                \n",
      "TTYPE24 = 'MAG2ERR_APER '      /                                                \n",
      "TTYPE25 = 'A2_WORLD '          /                                                \n",
      "TTYPE26 = 'A2ERR_WORLD '       /                                                \n",
      "TTYPE27 = 'B2_WORLD '          /                                                \n",
      "TTYPE28 = 'B2ERR_WORLD '       /                                                \n",
      "TTYPE29 = 'ISOAREA2_IMAGE '    /                                                \n",
      "TTYPE30 = 'FLAG2   '           /                                                \n",
      "COMMENT                                                                         \n",
      "COMMENT  *** Column formats ***                                                 \n",
      "COMMENT                                                                         \n",
      "TFORM1  = 'J       '           /                                                \n",
      "TFORM2  = 'D       '           /                                                \n",
      "TFORM3  = 'D       '           /                                                \n",
      "TFORM4  = 'D       '           /                                                \n",
      "TFORM5  = 'D       '           /                                                \n",
      "TFORM6  = 'D       '           /                                                \n",
      "TFORM7  = 'D       '           /                                                \n",
      "TFORM8  = 'D       '           /                                                \n",
      "TFORM9  = 'D       '           /                                                \n",
      "TFORM10 = 'D       '           /                                                \n",
      "TFORM11 = 'D       '           /                                                \n",
      "TFORM12 = 'D       '           /                                                \n",
      "TFORM13 = 'D       '           /                                                \n",
      "TFORM14 = 'D       '           /                                                \n",
      "TFORM15 = 'D       '           /                                                \n",
      "TFORM16 = 'J       '           /                                                \n",
      "TFORM17 = 'D       '           /                                                \n",
      "TFORM18 = 'D       '           /                                                \n",
      "TFORM19 = 'D       '           /                                                \n",
      "TFORM20 = 'D       '           /                                                \n",
      "TFORM21 = 'D       '           /                                                \n",
      "TFORM22 = 'D       '           /                                                \n",
      "TFORM23 = 'D       '           /                                                \n",
      "TFORM24 = 'D       '           /                                                \n",
      "TFORM25 = 'D       '           /                                                \n",
      "TFORM26 = 'D       '           /                                                \n",
      "TFORM27 = 'D       '           /                                                \n",
      "TFORM28 = 'D       '           /                                                \n",
      "TFORM29 = 'D       '           /                                                \n",
      "TFORM30 = 'D       '           /                                                >\n"
     ]
    }
   ],
   "source": [
    "phot18b_cfht = Table.read(photfile18b_cfht)\n",
    "hdulist=fits.open(photfile18b_cfht)\n",
    "hdr_phot18b_cfht=hdulist[1].header\n",
    "hdulist.close()\n",
    "print(hdr_phot18b_cfht.keys)"
   ]
  },
  {
   "cell_type": "code",
   "execution_count": 139,
   "metadata": {
    "scrolled": true
   },
   "outputs": [
    {
     "name": "stdout",
     "output_type": "stream",
     "text": [
      "<bound method Header.keys of XTENSION= 'BINTABLE'           /Binary table written by MWRFITS v1.4a           \n",
      "BITPIX  =                    8 /Required value                                  \n",
      "NAXIS   =                    2 /Required value                                  \n",
      "NAXIS1  =                   63 /Number of bytes per row                         \n",
      "NAXIS2  =               448149 /Number of rows                                  \n",
      "PCOUNT  =                    0 /Normally 0 (no varying arrays)                  \n",
      "GCOUNT  =                    1 /Required value                                  \n",
      "TFIELDS =                   12 /Number of columns in table                      \n",
      "COMMENT                                                                         \n",
      "COMMENT  *** End of mandatory fields ***                                        \n",
      "COMMENT                                                                         \n",
      "COMMENT                                                                         \n",
      "COMMENT  *** Column names ***                                                   \n",
      "COMMENT                                                                         \n",
      "TTYPE1  = 'RA      '           /                                                \n",
      "TTYPE2  = 'DEC     '           /                                                \n",
      "TTYPE3  = 'F275W_VEGA '        /                                                \n",
      "TTYPE4  = 'F336W_VEGA '        /                                                \n",
      "TTYPE5  = 'F475W_VEGA '        /                                                \n",
      "TTYPE6  = 'F814W_VEGA '        /                                                \n",
      "TTYPE7  = 'F110W_VEGA '        /                                                \n",
      "TTYPE8  = 'F160W_VEGA '        /                                                \n",
      "TTYPE9  = 'F475CROWDMAG '      /                                                \n",
      "TTYPE10 = 'F814CROWDMAG '      /                                                \n",
      "TTYPE11 = 'TARGTYPE '          /                                                \n",
      "TTYPE12 = 'FEH     '           /                                                \n",
      "COMMENT                                                                         \n",
      "COMMENT  *** Column formats ***                                                 \n",
      "COMMENT                                                                         \n",
      "TFORM1  = 'D       '           /                                                \n",
      "TFORM2  = 'D       '           /                                                \n",
      "TFORM3  = 'E       '           /                                                \n",
      "TFORM4  = 'E       '           /                                                \n",
      "TFORM5  = 'E       '           /                                                \n",
      "TFORM6  = 'E       '           /                                                \n",
      "TFORM7  = 'E       '           /                                                \n",
      "TFORM8  = 'E       '           /                                                \n",
      "TFORM9  = 'E       '           /                                                \n",
      "TFORM10 = 'E       '           /                                                \n",
      "TFORM11 = '11A     '           /                                                \n",
      "TFORM12 = 'E       '           /                                                >\n"
     ]
    }
   ],
   "source": [
    "phot18b_hst = Table.read(photfile18b_hst)\n",
    "hdulist=fits.open(photfile18b_hst)\n",
    "hdr_phot18b_hst=hdulist[1].header\n",
    "hdulist.close()\n",
    "print(hdr_phot18b_hst.keys)"
   ]
  },
  {
   "cell_type": "code",
   "execution_count": 140,
   "metadata": {
    "scrolled": true
   },
   "outputs": [
    {
     "name": "stdout",
     "output_type": "stream",
     "text": [
      "      RA     \n",
      "-------------\n",
      "23.5898768301\n",
      "23.5366081381\n",
      "23.5588775516\n",
      "23.6305060463\n",
      "23.5388244205\n",
      " 23.640254148\n",
      "23.5492206861\n",
      "23.5406411035\n",
      "23.5493804822\n",
      "23.6498149937\n",
      "          ...\n",
      "23.3561971468\n",
      "23.3726800968\n",
      "23.3814563468\n",
      "23.3549483168\n",
      "23.3708541968\n",
      "23.3648050968\n",
      "23.3550780268\n",
      "23.3809075568\n",
      "23.3775794368\n",
      "23.3709436868\n",
      "23.3724860768\n",
      "Length = 448149 rows      DEC     \n",
      "-------------\n",
      "30.7233834462\n",
      "30.7769395099\n",
      "30.7838522474\n",
      " 30.769108158\n",
      "30.7574267396\n",
      "30.7818885797\n",
      "30.7752763128\n",
      "30.7786712069\n",
      "30.7751084116\n",
      "30.7580514571\n",
      "          ...\n",
      " 30.558838967\n",
      " 30.556299177\n",
      " 30.526378797\n",
      " 30.559091397\n",
      " 30.556607617\n",
      " 30.557546167\n",
      " 30.559002327\n",
      " 30.523816197\n",
      " 30.555507407\n",
      " 30.556522407\n",
      " 30.556402187\n",
      "Length = 448149 rows\n"
     ]
    }
   ],
   "source": [
    "print(phot18b_hst['RA'], phot18b_hst['DEC'])"
   ]
  },
  {
   "cell_type": "code",
   "execution_count": 141,
   "metadata": {},
   "outputs": [
    {
     "data": {
      "text/plain": [
       "Text(0.5, 1.0, '2018B HST Catalog')"
      ]
     },
     "execution_count": 141,
     "metadata": {},
     "output_type": "execute_result"
    },
    {
     "data": {
      "image/png": "[encoded data removed]",
      "text/plain": [
       "<Figure size 432x288 with 1 Axes>"
      ]
     },
     "metadata": {
      "needs_background": "light"
     },
     "output_type": "display_data"
    }
   ],
   "source": [
    "plt.scatter(phot18b_hst['F475W_VEGA']-phot18b_hst['F814W_VEGA'], phot18b_hst['F814W_VEGA'], s=5, alpha=0.2)\n",
    "plt.xlim(-2.5,7.5)\n",
    "plt.ylim(26,14)\n",
    "plt.xlabel('F475W - F1814W')\n",
    "plt.ylabel('F1814W')\n",
    "plt.title('2018B HST Catalog')"
   ]
  },
  {
   "cell_type": "code",
   "execution_count": 142,
   "metadata": {},
   "outputs": [
    {
     "data": {
      "text/plain": [
       "Text(0.5, 1.0, '2016B HST Catalogs')"
      ]
     },
     "execution_count": 142,
     "metadata": {},
     "output_type": "execute_result"
    },
    {
     "data": {
      "image/png": "[encoded data removed]",
      "text/plain": [
       "<Figure size 432x288 with 1 Axes>"
      ]
     },
     "metadata": {
      "needs_background": "light"
     },
     "output_type": "display_data"
    }
   ],
   "source": [
    "# MAG1 is not always the same filter! (mostly F606W, but some F475W...)\n",
    "plt.scatter(phot16b_hst['MAG1_ACS']-phot16b_hst['MAG2_ACS'], phot16b_hst['MAG2_ACS'], s=5, alpha=0.2)\n",
    "plt.xlim(-2.5,7.5)\n",
    "plt.ylim(26,14)\n",
    "plt.xlabel('MAG1 - MAG2')\n",
    "plt.ylabel('MAG2')\n",
    "plt.title('2016B HST Catalogs')"
   ]
  },
  {
   "cell_type": "code",
   "execution_count": 143,
   "metadata": {},
   "outputs": [
    {
     "data": {
      "text/plain": [
       "Text(0.5, 1.0, '2016B CFHT Catalog')"
      ]
     },
     "execution_count": 143,
     "metadata": {},
     "output_type": "execute_result"
    },
    {
     "data": {
      "image/png": "[encoded data removed]",
      "text/plain": [
       "<Figure size 432x288 with 1 Axes>"
      ]
     },
     "metadata": {
      "needs_background": "light"
     },
     "output_type": "display_data"
    }
   ],
   "source": [
    "plt.scatter(phot16b_cfht['MAG1_AUTO']-phot16b_cfht['MAG2_AUTO'], phot16b_cfht['MAG2_AUTO'], s=5, alpha=0.2)\n",
    "plt.xlim(-2.5,7.5)\n",
    "plt.ylim(26,14)\n",
    "plt.xlabel('g - i')\n",
    "plt.ylabel('i')\n",
    "plt.title('2016B CFHT Catalog')"
   ]
  },
  {
   "cell_type": "code",
   "execution_count": 144,
   "metadata": {
    "collapsed": true
   },
   "outputs": [],
   "source": [
    "plt.close()"
   ]
  },
  {
   "cell_type": "markdown",
   "metadata": {},
   "source": [
    "Going to have to clean up input photometry files considerably (including calculating extinction-corrected mags).  Need to track the filters.\n",
    "\n",
    "For now, let's just match what we have.\n"
   ]
  },
  {
   "cell_type": "code",
   "execution_count": 145,
   "metadata": {
    "collapsed": true
   },
   "outputs": [],
   "source": [
    "# Set up new photometry columns for the data table\n",
    "# AUTO is kron-like elliptical aperture magnitude -- use this one\n",
    "# 'BEST' is Best of MAG_AUTO and MAG_ISOCOR - in other words, don't know which one\n",
    "mag1_cfht = Column(np.ones(len(tbdata))*np.nan, name='G_AUTO_CFHT')\n",
    "mag1err_cfht = Column(np.ones(len(tbdata))*np.nan, name='G_AUTO_CFHT_ERR')\n",
    "# all masks on central pointing from 'M33', which is original 'i' CFHT MegaCam filter\n",
    "# if/when get minor axis masks, those, *if made from 'M3305' pointing*, were observed with 'i2' filter\n",
    "mag2_cfht = Column(np.ones(len(tbdata))*np.nan, name='I_AUTO_CFHT') \n",
    "mag2err_cfht = Column(np.ones(len(tbdata))*np.nan, name='I_AUTO_CFHT_ERR') \n",
    "\n",
    "mag1a_hst16b = Column(np.ones(len(tbdata))*np.nan, name='F475W_ACS')\n",
    "mag1aerr_hst16b = Column(np.ones(len(tbdata))*np.nan, name='F475W_ACS_ERR')\n",
    "mag1b_hst16b = Column(np.ones(len(tbdata))*np.nan, name='F606W_ACS')\n",
    "mag1berr_hst16b = Column(np.ones(len(tbdata))*np.nan, name='F606W_ACS_ERR')\n",
    "mag2_hst16b = Column(np.ones(len(tbdata))*np.nan, name='F814W_ACS')\n",
    "mag2err_hst16b = Column(np.ones(len(tbdata))*np.nan, name='F814W_ACS_ERR')\n",
    "\n",
    "# current photometry file doesn't have error\n",
    "mag1_hst18b = Column(np.ones(len(tbdata))*np.nan, name='F475W_VEGA')\n",
    "mag2_hst18b = Column(np.ones(len(tbdata))*np.nan, name='F814W_VEGA')\n",
    "feh = Column(np.ones(len(tbdata))*np.nan, name='FEH')\n",
    "# targtype = Column(['']*len(tbdata), dtype=np.object, name='TARGTYPE') # this causes issues \n",
    "# with writing the file to fits - can't write an np.object into a fits file\n",
    "targtype = Column(['']*len(tbdata), dtype=np.dtype('U20'), name='TARGTYPE')"
   ]
  },
  {
   "cell_type": "code",
   "execution_count": 146,
   "metadata": {
    "scrolled": true
   },
   "outputs": [
    {
     "name": "stdout",
     "output_type": "stream",
     "text": [
      "   FEH   \n",
      "---------\n",
      "      0.0\n",
      "      0.0\n",
      "      0.0\n",
      "      0.0\n",
      "      0.0\n",
      "      0.0\n",
      "      0.0\n",
      "      0.0\n",
      "      0.0\n",
      "      0.0\n",
      "      ...\n",
      "-0.860471\n",
      "-0.617922\n",
      "-0.693557\n",
      "   -0.695\n",
      "-0.688001\n",
      "      0.0\n",
      "      0.0\n",
      "      0.0\n",
      "      0.0\n",
      "      0.0\n",
      "      0.0\n",
      "Length = 448149 rows   TARGTYPE \n",
      "-----------\n",
      "AGB        \n",
      "RHeB_bright\n",
      "RHeB_bright\n",
      "AGB        \n",
      "RHeB_bright\n",
      "AGB        \n",
      "RHeB_bright\n",
      "RHeB_bright\n",
      "AGB        \n",
      "RHeB_bright\n",
      "        ...\n",
      "RGB        \n",
      "RGB        \n",
      "RGB        \n",
      "RGB        \n",
      "RGB        \n",
      "AGB        \n",
      "MS         \n",
      "MS         \n",
      "MS         \n",
      "MS         \n",
      "MS         \n",
      "Length = 448149 rows\n"
     ]
    }
   ],
   "source": [
    "print(phot18b_hst['FEH'], phot18b_hst['TARGTYPE'])"
   ]
  },
  {
   "cell_type": "code",
   "execution_count": 147,
   "metadata": {
    "collapsed": true
   },
   "outputs": [],
   "source": [
    "tbdata.add_columns([mag1_cfht, mag1err_cfht, mag2_cfht, mag2err_cfht, mag1a_hst16b, mag1aerr_hst16b, \n",
    "                    mag1b_hst16b, mag1berr_hst16b, mag2_hst16b, mag2err_hst16b, \n",
    "                    mag1_hst18b, mag2_hst18b, feh, targtype])"
   ]
  },
  {
   "cell_type": "code",
   "execution_count": 148,
   "metadata": {
    "scrolled": true
   },
   "outputs": [
    {
     "name": "stdout",
     "output_type": "stream",
     "text": [
      "11003449 M33D2A\n",
      "(array([3404]),)\n",
      "[3404]\n",
      "  OBJNAME   \n",
      "------------\n",
      "    11003449 11003449 \n",
      "nan\n",
      "181971 M33D2A\n",
      "(array([118830]),)\n",
      "1\n",
      "[118830]\n",
      "0\n",
      "nope\n"
     ]
    }
   ],
   "source": [
    "print(tbdata['OBJNAME'][100].strip(), tbdata['MASKNAME'][100])\n",
    "#print(type(phot16b_hst['OBJNAME']))\n",
    "#print(type(np.array(phot16b_cfht['OBJNO1'])))\n",
    "#print(type(phot16b_cfht['OBJNO1'][0]))\n",
    "#print(np.array(phot16b_hst['OBJNAME']).astype(int))\n",
    "#print(type(int(tbdata['OBJNAME'][1])))\n",
    "\n",
    "item_index = np.where(np.array(phot16b_hst['OBJNAME']).astype(int) == int(tbdata['OBJNAME'][100]))\n",
    "print(item_index)\n",
    "item_index = np.flatnonzero(np.array(phot16b_hst['OBJNAME']).astype(int) == int(tbdata['OBJNAME'][100]))\n",
    "print(item_index)\n",
    "print(phot16b_hst['OBJNAME'][item_index], tbdata['OBJNAME'][100])\n",
    "#tbdata['F814W_ACS'][100] = phot16b_hst['MAG2_ACS'][item_index]\n",
    "print(tbdata['F814W_ACS'][100])\n",
    "\n",
    "print(tbdata['OBJNAME'][5].strip(), tbdata['MASKNAME'][5])\n",
    "item_index = np.where(np.array(phot16b_cfht['OBJNO1']) == int(tbdata['OBJNAME'][5]))\n",
    "print(item_index)\n",
    "print(len(item_index))\n",
    "item_index = np.flatnonzero(np.array(phot16b_cfht['OBJNO1']) == int(tbdata['OBJNAME'][5]))\n",
    "print(item_index)\n",
    "\n",
    "item_index = []\n",
    "print(len(item_index))\n",
    "if item_index:\n",
    "    print('has value')\n",
    "else:\n",
    "    print('nope')"
   ]
  },
  {
   "cell_type": "code",
   "execution_count": 150,
   "metadata": {
    "scrolled": true
   },
   "outputs": [
    {
     "name": "stdout",
     "output_type": "stream",
     "text": [
      "2016B CFHT:  [0d00m00.342s]\n",
      "2016B CFHT:  [0d00m00.3145s]\n",
      "2016B CFHT:  [0d00m00.3098s]\n",
      "2016B CFHT:  [0d00m00.3338s]\n",
      "2016B CFHT:  [0d00m00.3573s]\n",
      "2016B CFHT:  [0d00m00.3445s]\n",
      "2016B CFHT:  [0d00m00.3003s]\n",
      "2016B CFHT:  [0d00m00.3033s]\n",
      "2016B CFHT:  [0d00m00.3004s]\n",
      "2016B CFHT:  [0d00m00.3115s]\n",
      "2016B CFHT:  [0d00m00.3054s]\n",
      "2016B CFHT:  [0d00m00.357s]\n",
      "2016B CFHT:  [0d00m00.3053s]\n",
      "2018B HST target  KG347          separation:  [0d12m19.4083s]\n",
      "Separation more than 0.2 arcseconds for HST target  KG347         ; considered a failed match\n",
      "2018B HST target  KG316          separation:  [0d09m53.7053s]\n",
      "Separation more than 0.2 arcseconds for HST target  KG316         ; considered a failed match\n",
      "2018B HST target  KG272          separation:  [0d15m55.0393s]\n",
      "Separation more than 0.2 arcseconds for HST target  KG272         ; considered a failed match\n",
      "2018B HST target  KG337          separation:  [0d13m24.272s]\n",
      "Separation more than 0.2 arcseconds for HST target  KG337         ; considered a failed match\n"
     ]
    }
   ],
   "source": [
    "# Use objname ranges (set by me when making masks) and appropriate logic to fill out photometry entries\n",
    "\n",
    "failed_matches = []\n",
    "too_many_matches = []\n",
    "successful_matches = []\n",
    "failed_logic_matches = []\n",
    "count = 0\n",
    "\n",
    "sc_tbdata = SkyCoord(ra=tbdata['RA'], dec=tbdata['DEC'], unit=(u.hourangle, u.deg))\n",
    "sc_phot16b_hst = SkyCoord(ra=phot16b_hst['RA'], dec=phot16b_hst['DEC'], unit=(u.deg, u.deg))\n",
    "sc_phot16b_cfht = SkyCoord(ra=phot16b_cfht['RA1'], dec=phot16b_cfht['DEC1'], unit=(u.deg, u.deg))\n",
    "sc_phot18b_hst = SkyCoord(ra=phot18b_hst['RA'], dec=phot18b_hst['DEC'], unit=(u.deg, u.deg))\n",
    "sc_phot18b_cfht = SkyCoord(ra=phot18b_cfht['RA1'], dec=phot18b_cfht['DEC1'], unit=(u.deg, u.deg))\n",
    "\n",
    "sc_distance = []\n",
    "sc_distance_cfht = []\n",
    "sc_distance_cfht18b = []\n",
    "sc_distance_hst16b = []\n",
    "sc_distance_hst18b = []\n",
    "\n",
    "\n",
    "for i in np.arange(len(tbdata)):\n",
    "    #print()\n",
    "    if (np.core.defchararray.find(tbdata['MASKNAME'][i],'M33D') > -1) \\\n",
    "        and (np.core.defchararray.find(tbdata['OBJNAME'][i],'serendip') == -1): #a 2016B target\n",
    "        count += 1\n",
    "        if (int(tbdata['OBJNAME'][i]) >= 5000000 and int(tbdata['OBJNAME'][i]) < 8000000) or \\\n",
    "            (int(tbdata['OBJNAME'][i]) >= 11000000): # `Blue' filter is F606W HST \n",
    "            \n",
    "            item_index = np.flatnonzero(np.array(phot16b_hst['OBJNAME']).astype(int) == int(tbdata['OBJNAME'][i]))\n",
    "            #print(item_index)\n",
    "            #print('2016B F606W HST')\n",
    "            \n",
    "            if len(item_index) == 1:\n",
    "                #print(phot16b_hst['OBJNAME'][item_index], tbdata['OBJNAME'][i])\n",
    "                #print(sc_phot16b_hst[item_index])\n",
    "                #print(sc_tbdata[i])\n",
    "                if sc_phot16b_hst[item_index].separation(sc_tbdata[i]).arcsecond > 0.2:\n",
    "                    print('2016B F606W HST: ', sc_phot16b_hst[item_index].separation(sc_tbdata[i]))\n",
    "                \n",
    "                tbdata['F606W_ACS'][i] = phot16b_hst['MAG1_ACS'][item_index]\n",
    "                tbdata['F606W_ACS_ERR'][i] = phot16b_hst['MAG1_ERR'][item_index]\n",
    "                tbdata['F814W_ACS'][i] = phot16b_hst['MAG2_ACS'][item_index]\n",
    "                tbdata['F814W_ACS_ERR'][i] = phot16b_hst['MAG2_ERR'][item_index]\n",
    "                successful_matches.append(i)\n",
    "                sc_distance.append(sc_phot16b_hst[item_index].separation(sc_tbdata[i]))\n",
    "                sc_distance_hst16b.append(sc_phot16b_hst[item_index].separation(sc_tbdata[i]))\n",
    "                \n",
    "            elif len(item_index) > 1:\n",
    "                print('More than one entry found for: ', tbdata['OBJNAME'][i], tbdata['MASKNAME'][i])\n",
    "                print(phot16b_hst['OBJNAME'][item_index])\n",
    "                too_many_matches.append(i)\n",
    "            else:\n",
    "                print('STAR NOT FOUND: ', tbdata['OBJNAME'][i], tbdata['MASKNAME'][i])\n",
    "                failed_matches.append(i)\n",
    "\n",
    "        if (int(tbdata['OBJNAME'][i]) >= 8000000 and int(tbdata['OBJNAME'][i]) < 11000000): # `Blue' filter is F475W HST \n",
    "            item_index = np.flatnonzero(np.array(phot16b_hst['OBJNAME']).astype(int) == int(tbdata['OBJNAME'][i]))\n",
    "            #print(item_index)\n",
    "            #print('2016B F475W HST')\n",
    "            if len(item_index) == 1:\n",
    "                #print(phot16b_hst['OBJNAME'][item_index], tbdata['OBJNAME'][i])\n",
    "                #print(sc_phot16b_hst[item_index])\n",
    "                #print(sc_tbdata[i])\n",
    "                if sc_phot16b_hst[item_index].separation(sc_tbdata[i]).arcsecond > 0.2:\n",
    "                    print('2016B F475W HST: ', sc_phot16b_hst[item_index].separation(sc_tbdata[i]))\n",
    "                tbdata['F475W_ACS'][i] = phot16b_hst['MAG1_ACS'][item_index]\n",
    "                tbdata['F475W_ACS_ERR'][i] = phot16b_hst['MAG1_ERR'][item_index]\n",
    "                tbdata['F814W_ACS'][i] = phot16b_hst['MAG2_ACS'][item_index]\n",
    "                tbdata['F814W_ACS_ERR'][i] = phot16b_hst['MAG2_ERR'][item_index]\n",
    "                successful_matches.append(i)\n",
    "                sc_distance.append(sc_phot16b_hst[item_index].separation(sc_tbdata[i]))\n",
    "                sc_distance_hst16b.append(sc_phot16b_hst[item_index].separation(sc_tbdata[i]))\n",
    "                \n",
    "            elif len(item_index) > 1:\n",
    "                print('More than one entry found for: ', tbdata['OBJNAME'][i], tbdata['MASKNAME'][i])\n",
    "                print(phot16b_hst['OBJNAME'][item_index])\n",
    "                too_many_matches.append(i)\n",
    "            else:\n",
    "                print('STAR NOT FOUND: ', tbdata['OBJNAME'][i], tbdata['MASKNAME'][i])\n",
    "                failed_matches.append(i)\n",
    "                \n",
    "        if (int(tbdata['OBJNAME'][i]) < 5000000): #CFHT\n",
    "            #print('2016B CFHT')\n",
    "            item_index = np.flatnonzero(np.array(phot16b_cfht['OBJNO1']) == int(tbdata['OBJNAME'][i].strip()))\n",
    "            #print(item_index)\n",
    "            if len(item_index) == 1:\n",
    "                #print(phot16b_cfht['OBJNO1'][item_index], tbdata['OBJNAME'][i])\n",
    "                #print(sc_phot16b_cfht[item_index])\n",
    "                #print(sc_tbdata[i])\n",
    "                if sc_phot16b_cfht[item_index].separation(sc_tbdata[i]).arcsecond  > 0.3:\n",
    "                    print('2016B CFHT: ',sc_phot16b_cfht[item_index].separation(sc_tbdata[i]))\n",
    "                if sc_phot16b_cfht[item_index].separation(sc_tbdata[i]).arcsecond  < 0.5:\n",
    "                    tbdata['G_AUTO_CFHT'][i] = phot16b_cfht['MAG1_AUTO'][item_index]\n",
    "                    tbdata['I_AUTO_CFHT'][i] = phot16b_cfht['MAG2_AUTO'][item_index]\n",
    "                    tbdata['G_AUTO_CFHT_ERR'][i] = phot16b_cfht['MAG1ERR_AUTO'][item_index]\n",
    "                    tbdata['I_AUTO_CFHT_ERR'][i] = phot16b_cfht['MAG2ERR_AUTO'][item_index]\n",
    "                    successful_matches.append(i)\n",
    "                    sc_distance.append(sc_phot16b_cfht[item_index].separation(sc_tbdata[i]))\n",
    "                    sc_distance_cfht.append(sc_phot16b_cfht[item_index].separation(sc_tbdata[i]))\n",
    "                else:\n",
    "                    print('Separation more than 0.5 arcseconds for 2016 CFHT target ',\n",
    "                          tbdata['OBJNAME'][i] ,'; considered a failed match')\n",
    "                    failed_matches.append(i)\n",
    "            elif len(item_index) > 1:\n",
    "                print('More than one entry found for: ', tbdata['OBJNAME'][i], tbdata['MASKNAME'][i])\n",
    "                print(phot16b_cfht['OBJNO1'][item_index])\n",
    "                too_many_matches.append(i)\n",
    "            else:\n",
    "                print('STAR NOT FOUND: ', tbdata['OBJNAME'][i], tbdata['MASKNAME'][i])\n",
    "                failed_matches.append(i)\n",
    "                \n",
    "    elif np.core.defchararray.find(tbdata['MASKNAME'][i],'M33P') > -1 \\\n",
    "        and (np.core.defchararray.find(tbdata['OBJNAME'][i],'serendip') == -1): # a 2018B mask\n",
    "        \n",
    "        # For 2018, the photometry file doesn't include objnames.  may have to match by RA and Dec.\n",
    "        # Amanda says the numeric portion of the object names (dsimulator/zspec) are the *index* of the object \n",
    "            # in the CFHT and HST photometry files used in the 2018 mask design\n",
    "            # of course, this means you need the correct files to use the object name as an index...\n",
    "        \n",
    "        if np.core.defchararray.find(tbdata['OBJNAME'][i],'CFHT') > -1: \n",
    "            # from CFHT catalog, only 26 objects with zquality > 3\n",
    "            \n",
    "            #print('2018B CFHT: ', tbdata['OBJNAME'][i], tbdata['OBJNAME'][i].replace('CFHT','').strip())\n",
    "            item_index = [int(tbdata['OBJNAME'][i].replace('CFHT','').strip())]\n",
    "            # make item_index an array like above, since want to use\n",
    "            # ravel later, and for it to work properly will need to be consistent with above\n",
    "            \n",
    "            #print(item_index)\n",
    "            #print(sc_phot18b_cfht[item_index])\n",
    "            #print(sc_tbdata[i])\n",
    "            #print(phot18b_cfht['MAG1_AUTO'][item_index], phot18b_cfht['MAG2_AUTO'][item_index])\n",
    "            if sc_phot18b_cfht[item_index].separation(sc_tbdata[i]).arcsecond  > 0.3:\n",
    "                print('2018B CFHT: ',sc_phot18b_cfht[item_index].separation(sc_tbdata[i]))\n",
    "            if sc_phot18b_cfht[item_index].separation(sc_tbdata[i]).arcsecond  < 0.5: # set threshold decently high for CFHT\n",
    "                tbdata['G_AUTO_CFHT'][i] = phot18b_cfht['MAG1_AUTO'][item_index]\n",
    "                tbdata['I_AUTO_CFHT'][i] = phot18b_cfht['MAG2_AUTO'][item_index]\n",
    "                tbdata['G_AUTO_CFHT_ERR'][i] = phot18b_cfht['MAG1ERR_AUTO'][item_index]\n",
    "                tbdata['I_AUTO_CFHT_ERR'][i] = phot18b_cfht['MAG2ERR_AUTO'][item_index]\n",
    "                successful_matches.append(i)\n",
    "                sc_distance.append(sc_phot18b_cfht[item_index].separation(sc_tbdata[i]))\n",
    "                sc_distance_cfht18b.append(sc_phot18b_cfht[item_index].separation(sc_tbdata[i]))\n",
    "            else:\n",
    "                print('Separation more than 0.5 arcseconds for 2018 CFHT target ',\n",
    "                      tbdata['OBJNAME'][i] ,'; considered a failed match')\n",
    "                failed_matches.append(i)\n",
    "        else:\n",
    "            #print('2018B HST')\n",
    "            item_index = [int(re.sub(r\"\\D\", \"\", tbdata['OBJNAME'][i]))]\n",
    "            if sc_phot18b_hst[item_index].separation(sc_tbdata[i]).arcsecond  > 0.2: # threshold lower for HST\n",
    "                print('2018B HST target ',tbdata['OBJNAME'][i],' separation: ',sc_phot18b_hst[item_index].separation(sc_tbdata[i]))\n",
    "                print('Separation more than 0.2 arcseconds for HST target ',\n",
    "                      tbdata['OBJNAME'][i] ,'; considered a failed match')\n",
    "                failed_matches.append(i)\n",
    "            else:\n",
    "                tbdata['F475W_VEGA'][i] = phot18b_hst['F475W_VEGA'][item_index]\n",
    "                tbdata['F814W_VEGA'][i] = phot18b_hst['F814W_VEGA'][item_index]\n",
    "                tbdata['FEH'][i] = phot18b_hst['FEH'][item_index]\n",
    "                tbdata['TARGTYPE'][i] = phot18b_hst['TARGTYPE'][item_index[0]]\n",
    "                #print(phot18b_hst['TARGTYPE'][item_index[0]], tbdata['TARGTYPE'][i])\n",
    "                successful_matches.append(i)\n",
    "                sc_distance.append(sc_phot18b_hst[item_index].separation(sc_tbdata[i]))\n",
    "                sc_distance_hst18b.append(sc_phot18b_hst[item_index].separation(sc_tbdata[i]))\n",
    "\n",
    "    else:\n",
    "        #print('Didn\\'t end up in logic loop for target ', tbdata['MASKNAME'][i], tbdata['OBJNAME'][i])\n",
    "        failed_logic_matches.append(i)"
   ]
  },
  {
   "cell_type": "code",
   "execution_count": 152,
   "metadata": {},
   "outputs": [
    {
     "data": {
      "text/plain": [
       "Text(0.5, 0, 'Distance between Phot and Spec Coords (arcsec)')"
      ]
     },
     "execution_count": 152,
     "metadata": {},
     "output_type": "execute_result"
    },
    {
     "data": {
      "image/png": "[encoded data removed]",
      "text/plain": [
       "<Figure size 432x288 with 1 Axes>"
      ]
     },
     "metadata": {
      "needs_background": "light"
     },
     "output_type": "display_data"
    }
   ],
   "source": [
    "# Check the matches\n",
    "# HST catalogs from 2016B and 2018B have 10 significant digits after decimal on RA, Dec\n",
    "# CFHT catalog has 7.\n",
    "\n",
    "nbins = 40\n",
    "#plt.hist(np.ravel([d.arcsec for d in sc_distance]), bins=nbins, label='All')\n",
    "plt.hist(np.ravel([d.arcsec for d in sc_distance_hst16b]), bins=nbins, alpha=0.5, label='HST 16B')\n",
    "plt.hist(np.ravel([d.arcsec for d in sc_distance_hst18b]), bins=nbins, alpha=0.5, label='HST 18B')\n",
    "plt.hist(np.ravel([d.arcsec for d in sc_distance_cfht]), bins=nbins, alpha=0.5, label = 'CFHT 16B')\n",
    "plt.hist(np.ravel([d.arcsec for d in sc_distance_cfht18b]), bins=nbins, alpha=0.5, label = 'CFHT 18B')\n",
    "plt.legend()\n",
    "plt.xlabel('Distance between Phot and Spec Coords (arcsec)')"
   ]
  },
  {
   "cell_type": "code",
   "execution_count": 153,
   "metadata": {},
   "outputs": [
    {
     "name": "stdout",
     "output_type": "stream",
     "text": [
      "4\n",
      "0\n",
      "2678\n",
      "1512\n"
     ]
    }
   ],
   "source": [
    "print(len(failed_matches))\n",
    "#print(failed_matches)\n",
    "print(len(too_many_matches))\n",
    "print(len(tbdata))\n",
    "print(count)"
   ]
  },
  {
   "cell_type": "code",
   "execution_count": 154,
   "metadata": {},
   "outputs": [
    {
     "name": "stdout",
     "output_type": "stream",
     "text": [
      "   OBJNAME   \n",
      "-------------\n",
      "KG347        \n",
      "KG316        \n",
      "KG272        \n",
      "KG337        \n",
      "OBJNAME\n",
      "-------\n"
     ]
    }
   ],
   "source": [
    "print(tbdata['OBJNAME'][failed_matches])\n",
    "print(tbdata['OBJNAME'][too_many_matches])"
   ]
  },
  {
   "cell_type": "code",
   "execution_count": null,
   "metadata": {
    "collapsed": true
   },
   "outputs": [],
   "source": [
    "# debug statements, 2016B\n",
    "#m = (np.array(tbdata['OBJNAME'][failed_matches]).astype(int) < 5000000)\n",
    "#print(tbdata['OBJNAME'][failed_matches][m])\n",
    "#m = (np.array(tbdata['OBJNAME'][too_many_matches]).astype(int) < 5000000)\n",
    "#print(tbdata['OBJNAME'][too_many_matches][m])"
   ]
  },
  {
   "cell_type": "code",
   "execution_count": null,
   "metadata": {
    "collapsed": true
   },
   "outputs": [],
   "source": [
    "# debug statements, 2016B\n",
    "#m = (np.array(tbdata['OBJNAME'][failed_matches]).astype(int) >= 5000000)\n",
    "#print(tbdata['OBJNAME'][failed_matches][m])\n",
    "#m = (np.array(tbdata['OBJNAME'][too_many_matches]).astype(int) >= 5000000)\n",
    "#print(tbdata['OBJNAME'][too_many_matches][m])"
   ]
  },
  {
   "cell_type": "code",
   "execution_count": null,
   "metadata": {
    "collapsed": true
   },
   "outputs": [],
   "source": [
    "# spot check photometry against Amanda's all_target_list.in\n",
    "#for t in tbdata[m3]:\n",
    "#    print(t['OBJNAME'], t['F475W_VEGA'], t['F814W_VEGA'])"
   ]
  },
  {
   "cell_type": "code",
   "execution_count": 155,
   "metadata": {},
   "outputs": [
    {
     "name": "stdout",
     "output_type": "stream",
     "text": [
      "181325    01:34:20.36 +30:23:22.7 23.5179 21.9958\n",
      "181971    01:34:22.06 +30:23:26.3 22.9108 20.5428\n",
      "190652    01:34:17.58 +30:24:1.9  22.6974 20.5969\n",
      "198740    01:34:23.46 +30:24:38.3 23.8876 21.8149\n",
      "206727    01:34:21.43 +30:25:8.4  22.119 21.7811\n",
      "209140    01:34:20.00 +30:25:15.9 21.6399 19.567\n",
      "211223    01:34:23.63 +30:25:30.3 24.1673 21.2137\n",
      "212176    01:33:57.68 +30:25:33.3 23.231 21.5909\n",
      "215883    01:33:56.31 +30:25:41.2 20.4285 20.6461\n",
      "220006    01:33:51.24 +30:26:4.9  23.4176 21.8152\n",
      "226705    01:33:58.87 +30:26:26.3 22.9023 21.1516\n",
      "227559    01:33:52.68 +30:26:33.5 23.5443 21.6696\n",
      "228190    01:33:57.39 +30:26:31.0 21.3284 20.2857\n",
      "229225    01:33:55.72 +30:26:39.5 22.9975 20.9252\n",
      "229794    01:33:53.24 +30:26:41.9 23.3415 21.7492\n",
      "230448    01:33:57.45 +30:26:44.3 23.9449 21.2398\n",
      "237330    01:33:52.18 +30:27:12.0 24.0463 20.2581\n",
      "238675    01:33:54.88 +30:27:17.1 23.4225 21.8656\n",
      "239037    01:33:52.63 +30:27:16.6 22.5356 21.2831\n",
      "241675    01:33:59.86 +30:27:24.2 21.448 20.3701\n",
      "245768    01:33:49.66 +30:27:40.5 21.7523 20.6757\n",
      "246366    01:33:58.41 +30:27:40.7 19.0095 19.1817\n",
      "250698    01:33:51.74 +30:27:32.7 20.1092 19.003\n",
      "260350    01:33:55.17 +30:28:35.5 20.9789 19.7067\n",
      "261662    01:33:51.82 +30:28:44.8 23.7759 20.2418\n",
      "262561    01:33:58.98 +30:28:46.6 21.5622 19.7747\n",
      "262694    01:34:1.60  +30:28:37.2 20.3565 19.7201\n",
      "265476    01:33:58.66 +30:28:58.1 23.3405 22.3827\n",
      "266837    01:33:56.52 +30:29:0.9  21.3579 19.2948\n",
      "290957    01:33:14.32 +30:30:34.8 22.0296 20.6809\n",
      "292067    01:33:14.73 +30:30:38.3 21.8721 21.0181\n",
      "294268    01:33:16.81 +30:30:45.1 21.9874 20.6993\n",
      "297686    01:33:13.60 +30:30:53.3 22.5561 21.2084\n",
      "180396    01:34:20.91 +30:23:18.2 23.578 22.0997\n",
      "186859    01:34:19.47 +30:23:46.8 23.2267 21.6471\n",
      "191023    01:34:17.93 +30:24:2.6  23.4525 22.5089\n",
      "193773    01:34:18.83 +30:24:11.2 22.6074 22.1594\n",
      "199587    01:34:22.23 +30:24:39.5 23.085 21.6568\n",
      "206094    01:34:20.84 +30:24:59.5 20.3972 20.9167\n",
      "206778    01:34:19.36 +30:25:4.6  20.8745 19.8658\n",
      "207512    01:34:20.31 +30:25:14.9 23.2821 21.9494\n",
      "211348    01:33:57.64 +30:25:29.4 22.5713 21.1327\n",
      "211834    01:33:56.48 +30:25:33.1 24.291 21.9884\n",
      "214601    01:34:22.40 +30:25:42.6 23.3311 21.8831\n",
      "216755    01:33:51.41 +30:25:47.2 20.4118 20.5668\n",
      "218315    01:33:55.74 +30:25:53.0 20.0557 19.8603\n",
      "221635    01:33:57.19 +30:26:10.0 22.1014 22.4632\n",
      "228710    01:33:53.18 +30:26:37.8 23.3545 22.2527\n",
      "232305    01:33:50.30 +30:26:51.5 23.3532 20.8802\n",
      "237130    01:33:55.45 +30:27:4.0  20.884 20.8132\n",
      "237387    01:33:49.40 +30:27:7.2  21.0633 19.1017\n",
      "238449    01:33:59.68 +30:27:15.7 23.9146 21.9492\n",
      "242166    01:33:53.68 +30:27:30.6 23.9061 20.8688\n",
      "242506    01:33:53.00 +30:27:29.0 23.1338 20.7716\n",
      "243054    01:34:0.83  +30:27:33.9 24.4742 21.8878\n",
      "244371    01:33:57.10 +30:27:38.9 23.1636 21.499\n",
      "250980    01:33:58.67 +30:27:59.9 23.1162 22.3066\n",
      "251277    01:33:50.36 +30:28:4.3  23.5345 21.8416\n",
      "251731    01:33:54.38 +30:28:6.8  23.5155 21.6413\n",
      "252780    01:33:51.88 +30:28:11.0 23.972 20.8587\n",
      "253391    01:34:1.64  +30:28:13.6 23.879 21.434\n",
      "255496    01:33:53.81 +30:28:21.1 23.0344 20.8601\n",
      "256335    01:33:51.23 +30:28:23.7 22.658 21.1014\n",
      "258745    01:33:52.83 +30:28:33.4 23.4061 20.6699\n",
      "259015    01:34:0.88  +30:28:31.9 22.3961 22.2739\n",
      "267745    01:33:11.90 +30:29:6.8  22.9469 19.9267\n",
      "287327    01:33:13.24 +30:30:22.4 24.468 21.3895\n",
      "094811    01:33:47.79 +30:16:49.0 20.925 20.9984\n",
      "095702    01:33:40.37 +30:16:47.2 22.1135 21.0583\n",
      "096001    01:33:47.58 +30:16:53.4 20.1676 20.1228\n",
      "096569    01:33:41.92 +30:16:50.9 21.7259 19.8724\n",
      "098603    01:33:44.66 +30:16:58.7 21.4624 19.621\n",
      "100799    01:33:44.10 +30:17:10.4 20.61 20.8897\n",
      "100914    01:33:46.09 +30:17:14.8 22.5636 21.3646\n",
      "101175    01:33:44.90 +30:17:15.4 21.4776 19.5015\n",
      "101858    01:33:43.41 +30:17:21.9 21.152 19.6943\n",
      "102696    01:33:46.02 +30:17:26.5 22.9387 20.7615\n",
      "104272    01:33:49.24 +30:17:28.6 21.8275 20.6042\n",
      "107728    01:33:44.72 +30:17:48.3 22.2542 21.2136\n",
      "108173    01:33:41.40 +30:17:49.6 22.5238 20.4447\n",
      "112290    01:33:50.68 +30:18:6.0  22.623 21.4829\n",
      "123206    01:33:50.34 +30:18:52.9 22.6581 21.2003\n",
      "123408    01:33:53.94 +30:18:47.8 20.6056 19.0108\n",
      "124167    01:33:23.42 +30:18:51.8 21.8482 19.899\n",
      "134536    01:33:23.89 +30:19:37.7 21.8826 20.5616\n",
      "147430    01:33:28.72 +30:20:43.4 22.4253 20.2625\n",
      "148279    01:33:28.08 +30:20:48.8 22.7589 20.508\n",
      "155880    01:33:31.67 +30:21:22.4 22.8765 21.4475\n",
      "160769    01:33:35.72 +30:21:39.9 22.1751 21.404\n",
      "234086    01:32:51.14 +30:26:53.7 22.774 21.1607\n",
      "236057    01:32:51.23 +30:27:1.7  22.1876 21.4395\n",
      "260206    01:32:55.05 +30:28:36.0 21.7402 22.0854\n",
      "083864    01:33:43.36 +30:16:1.4  21.6448 20.9697\n",
      "118227    01:33:17.68 +30:18:33.3 22.6247 21.0499\n",
      "123105    01:33:22.69 +30:18:49.7 21.4596 20.1642\n",
      "124939    01:33:17.83 +30:18:59.4 21.1217 21.083\n",
      "126000    01:33:18.03 +30:19:5.3  22.1485 20.7778\n",
      "127513    01:33:18.14 +30:19:15.7 22.5627 20.9448\n",
      "132107    01:33:24.56 +30:19:30.9 21.0335 20.4038\n",
      "132654    01:33:18.27 +30:19:33.2 20.9171 20.5685\n",
      "132661    01:33:19.18 +30:19:34.5 21.61 19.9587\n",
      "132686    01:33:20.13 +30:19:35.5 22.7476 21.1759\n",
      "134727    01:33:16.91 +30:19:42.3 22.4643 20.9214\n",
      "135979    01:33:22.48 +30:19:43.8 21.1091 19.7438\n",
      "136800    01:33:19.59 +30:19:47.6 22.3887 21.0726\n",
      "137854    01:33:19.19 +30:19:54.7 22.0099 20.5929\n",
      "138051    01:33:27.21 +30:19:57.2 20.8543 20.1788\n",
      "138526    01:33:21.26 +30:20:4.6  22.9418 20.8734\n",
      "277084    01:33:3.51  +30:29:42.6 24.469 21.3495\n",
      "282286    01:33:4.33  +30:30:2.8  23.7448 21.5903\n",
      "285268    01:33:5.26  +30:30:14.3 23.0243 21.9901\n",
      "089881    01:33:41.31 +30:16:29.0 21.9564 21.132\n",
      "092159    01:33:45.11 +30:16:32.5 21.4437 19.9375\n",
      "094160    01:33:43.04 +30:16:29.8 20.73 20.2114\n",
      "097346    01:33:48.16 +30:16:58.2 20.7032 19.5114\n",
      "100907    01:33:46.86 +30:17:14.4 22.4611 20.533\n",
      "105294    01:33:44.68 +30:17:34.1 22.2953 21.1959\n",
      "106434    01:33:42.64 +30:17:16.7 22.75 21.2946\n",
      "106960    01:33:43.98 +30:17:43.9 22.5663 20.6774\n",
      "107656    01:33:50.44 +30:17:47.5 22.6464 20.1944\n",
      "109666    01:33:52.08 +30:17:51.4 22.3449 20.5382\n",
      "112956    01:33:49.53 +30:17:48.9 19.8785 19.7542\n",
      "129449    01:33:22.83 +30:19:21.6 22.6281 21.3631\n",
      "131533    01:33:23.87 +30:19:30.7 22.5995 20.5665\n",
      "133469    01:33:23.20 +30:19:33.8 20.4493 20.315\n",
      "134617    01:33:23.32 +30:19:43.0 22.67 21.1394\n",
      "134843    01:33:27.64 +30:19:42.6 21.4409 21.3012\n",
      "139705    01:33:29.13 +30:19:59.2 21.9219 21.0144\n",
      "143397    01:33:29.42 +30:20:26.4 22.9204 21.3225\n",
      "259065    01:32:55.61 +30:28:32.8 22.575 23.0422\n",
      "026457    01:32:55.95 +30:11:43.3 23.0536 21.5094\n",
      "027140    01:32:54.69 +30:11:48.5 23.7285 21.9734\n",
      "029870    01:32:50.87 +30:11:58.1 23.0632 22.0996\n",
      "029900    01:32:49.81 +30:11:59.0 22.4463 22.0464\n",
      "031853    01:33:2.56  +30:12:11.5 23.6445 22.2618\n",
      "033007    01:32:49.72 +30:12:16.2 23.9392 22.6396\n",
      "034343    01:32:57.06 +30:12:23.2 23.9846 22.6308\n",
      "038921    01:32:52.89 +30:12:44.4 23.5222 22.029\n",
      "042711    01:32:44.25 +30:13:1.3  23.2047 21.9963\n",
      "044481    01:32:53.22 +30:13:11.4 23.8329 21.9919\n",
      "047078    01:32:44.72 +30:13:21.8 23.373 21.4245\n",
      "049236    01:32:49.71 +30:13:32.4 23.9463 22.4139\n",
      "050762    01:33:0.17  +30:13:27.5 22.3994 22.094\n",
      "052568    01:32:46.37 +30:13:46.7 23.4703 21.7322\n",
      "053146    01:33:1.72  +30:13:44.3 21.9833 21.1776\n",
      "053430    01:32:47.50 +30:13:44.2 20.3162 19.8078\n",
      "060734    01:32:59.00 +30:14:24.0 23.4449 21.3387\n",
      "062057    01:32:46.56 +30:14:28.2 24.4081 21.4272\n",
      "063286    01:32:50.18 +30:14:34.8 22.9964 22.0421\n",
      "064851    01:32:55.18 +30:14:41.7 23.935 22.4081\n",
      "068800    01:33:18.99 +30:14:46.5 22.3437 20.2187\n",
      "070652    01:33:20.34 +30:15:3.0  21.4474 20.8042\n",
      "089291    01:33:11.81 +30:16:27.5 23.3157 21.2723\n",
      "096659    01:33:48.04 +30:16:50.8 21.5405 20.6864\n",
      "108387    01:33:13.23 +30:17:50.2 23.1843 21.2879\n",
      "109873    01:33:44.34 +30:17:56.9 22.9117 21.2128\n",
      "111152    01:33:50.98 +30:18:0.3  22.627 21.1571\n",
      "117475    01:33:52.10 +30:18:29.6 22.7651 20.5178\n",
      "117664    01:33:50.66 +30:18:22.9 22.0405 20.5401\n",
      "119147    01:33:18.07 +30:18:28.0 19.279 19.6389\n",
      "121561    01:33:48.44 +30:18:48.9 22.4763 20.2085\n",
      "125170    01:33:44.06 +30:19:5.4  22.8392 21.4403\n",
      "129913    01:33:43.96 +30:19:25.5 22.7056 21.4829\n",
      "139880    01:33:49.42 +30:19:53.4 22.0688 21.2676\n",
      "143217    01:33:43.76 +30:20:14.0 20.9671 19.5099\n",
      "143429    01:33:48.97 +30:20:23.7 22.489 20.3765\n",
      "143808    01:33:49.33 +30:20:25.0 22.364 21.4651\n",
      "144357    01:33:50.40 +30:20:22.3 22.8447 21.1459\n",
      "144819    01:33:50.31 +30:20:33.0 22.4357 21.2737\n",
      "CFHT158684    01:33:19.81 +30:31:4.3  22.7941 20.9736\n",
      "CFHT158985    01:34:28.37 +30:31:4.0  22.7215 21.7027\n",
      "CFHT159168    01:33:20.30 +30:31:6.0  22.2227 20.366\n",
      "CFHT159790    01:33:18.79 +30:31:10.5 22.0851 21.6826\n",
      "CFHT160048    01:34:26.54 +30:31:13.7 23.357 20.8925\n",
      "CFHT160454    01:34:26.24 +30:31:18.6 22.9675 21.5373\n",
      "CFHT162207    01:34:26.84 +30:31:32.0 23.2088 21.1774\n",
      "CFHT164657    01:34:23.68 +30:31:58.4 24.3455 21.3567\n",
      "CFHT165584    01:34:25.62 +30:31:60.0 20.5872 20.3745\n",
      "CFHT165618    01:34:22.99 +30:32:1.7  21.5336 19.9949\n",
      "CFHT166102    01:34:29.56 +30:32:5.1  20.3061 20.5097\n",
      "CFHT166265    01:33:21.64 +30:32:11.7 21.9054 21.7615\n",
      "CFHT166360    01:34:28.68 +30:32:10.4 23.3092 21.5901\n",
      "CFHT169463    01:34:25.04 +30:32:40.7 23.0895 21.2067\n",
      "CFHT169694    01:33:16.34 +30:32:43.7 22.0328 19.5488\n",
      "CFHT170467    01:34:28.05 +30:32:49.2 22.7238 21.2372\n",
      "CFHT171233    01:34:23.39 +30:32:56.3 22.6652 20.9954\n",
      "CFHT176041    01:33:15.60 +30:33:43.0 24.2962 20.5037\n",
      "CFHT176915    01:33:15.94 +30:33:47.0 22.5788 21.3503\n",
      "CFHT177507    01:34:22.11 +30:33:53.9 22.1715 21.5172\n",
      "CFHT177608    01:34:22.40 +30:33:52.9 21.8721 20.8642\n",
      "CFHT177705    01:34:22.70 +30:33:56.8 24.3553 21.1493\n",
      "CFHT177910    01:34:21.74 +30:33:55.6 21.3367 20.8481\n",
      "CFHT179514    01:34:25.92 +30:34:11.3 21.7036 19.5783\n",
      "CFHT179645    01:33:18.16 +30:34:3.9  22.327 20.7286\n",
      "CFHT185751    01:33:21.98 +30:35:14.6 21.5155 22.0511\n"
     ]
    }
   ],
   "source": [
    "# to compare 2018 CFHT photometry to that in all_target_list.in.  \n",
    "m = ((tbdata['ZQUALITY'] >= zqualityflag) & (~np.isnan(tbdata['G_AUTO_CFHT'])))\n",
    "for t in tbdata[m]:\n",
    "    print(t['OBJNAME'], t['RA'], t['DEC'], t['G_AUTO_CFHT'], t['I_AUTO_CFHT'])"
   ]
  },
  {
   "cell_type": "code",
   "execution_count": null,
   "metadata": {
    "collapsed": true
   },
   "outputs": [],
   "source": []
  },
  {
   "cell_type": "markdown",
   "metadata": {},
   "source": [
    "### Compute Star by Star Extinction Corrections"
   ]
  },
  {
   "cell_type": "raw",
   "metadata": {},
   "source": [
    "From extinctcorrect_phot.pro\n",
    "\n",
    "if keyword_set(iconvert) then begin\n",
    "; use conversion from McConnachie 2010 (2010 ApJ 723 1038)\n",
    "; i2 − i1 = −0.045(g − i2) + 0.073\n",
    "; Note they use i2 for the OLD and i1 for the NEW filter - opposite from MegaPipe/CFHT usage!\n",
    "; i1(new) = i2(old) + 0.045(g-i2) - 0.073\n",
    "data.mag2_best=data.mag2_best + 0.045*(data.mag1_best-data.mag2_best) - 0.073\n",
    "data.mag2_aper=data.mag2_aper + 0.045*(data.mag1_aper-data.mag2_aper) - 0.073\n",
    "data.mag2_auto=data.mag2_auto + 0.045*(data.mag1_auto-data.mag2_auto) - 0.073\n",
    "; propagation of errors: sigma_i_new^2=1.045*sigma_i_old^2 + 0.045*sigma_g^2\n",
    "data.mag2err_best=sqrt(1.045*data.mag2err_best^2. + 0.045*data.mag1err_best^2)\n",
    "data.mag2err_aper=sqrt(1.045*data.mag2err_aper^2. + 0.045*data.mag1err_aper^2)\n",
    "data.mag2err_auto=sqrt(1.045*data.mag2err_auto^2. + 0.045*data.mag1err_auto^2)\n",
    "endif \n",
    "\n",
    "; convert E(B-V) to reddeining for MegaPrime g, i2 filters \n",
    "; calculate extinction in g, i2 from E(B-V), assuming an R_V=3.1 extinction curve \n",
    "; MegaPrime filters are as \"close as possible to SDSS filters\"\n",
    "; McConnachie et al. 2010 used SDSS A/E(B-V) values\n",
    "; Assuming an R_V=3.1 extinction curve, the dust maps should be multiplied\n",
    ";   by the value in the final column to determine the extinction in a given\n",
    ";   passband. \n",
    "; Filter name       LamEff  A/A(V)   A/E(B-V)\n",
    ";  Sloan g'            4925    1.161    3.793\n",
    ";  Sloan r'            6335    0.843    2.751\n",
    ";  Sloan i'            7799    0.639    2.086\n",
    "\n",
    "i0_best=data.mag2_best-ebv*2.086\n",
    "g0_best=data.mag1_best-ebv*3.793\n",
    "i0_auto=data.mag2_auto-ebv*2.086\n",
    "g0_auto=data.mag1_auto-ebv*3.793\n",
    "i0_aper=data.mag2_aper-ebv*2.086\n",
    "g0_aper=data.mag1_aper-ebv*3.793"
   ]
  },
  {
   "cell_type": "raw",
   "metadata": {},
   "source": [
    "And from Table 6 of Schlafly & Finkbeiner 2011:\n",
    "SF2011_apj398709t6_ascii.txt\n",
    "\n",
    "These are A_lambda/E(B-V), for given R_V\n",
    "\n",
    "Bandpass        lambda_eff      R_V\n",
    "                          2.1     3.1     4.1     5.1 \n",
    "-------------------------------------------------------                          \n",
    "ACS F475W       4760.3  3.787   3.268   3.028   2.890\n",
    "ACS F606W       5901.0  2.555   2.471   2.431   2.409  \n",
    "ACS F814W       8012.4  1.432   1.526   1.569   1.594\n",
    "\n",
    "SDSS g          4716.7  3.843   3.303   3.054   2.910\n",
    "SDSS i          7475.9  1.583   1.698   1.751   1.782\n",
    "\n",
    "Table Notes: Ab/E(B - V)SFD in different bandpasses b, evaluated according to an F99 reddening law with normalization N = 0.78 and RV = 2.1, 3.1, 4.1, and 5.1, using a 7000 K source spectrum. The column lambdaeff gives the throughput-weighted mean wavelength in the bandpass. *****When used with RV = 3.1, these give the coefficients to use with E(B - V)SFD***** to get reddenings consistent with the results of this work and Schlafly et al. (2010). The values for other RV are provided only for convenience."
   ]
  },
  {
   "cell_type": "code",
   "execution_count": 156,
   "metadata": {
    "collapsed": true
   },
   "outputs": [],
   "source": [
    "# Let's implement the SFD, so the values from Table 6 of SF11\n",
    "# Note that they are pretty different than what was assumed in IDL procedure for Sloan g' and i'\n",
    "acs_475 = 3.268\n",
    "acs_606 = 2.471\n",
    "acs_814 = 1.526\n",
    "sdss_g = 3.303\n",
    "sdss_i = 1.698"
   ]
  },
  {
   "cell_type": "code",
   "execution_count": 157,
   "metadata": {
    "collapsed": true
   },
   "outputs": [],
   "source": [
    "import sfdmap\n",
    "# https://github.com/kbarbary/sfdmap\n",
    "\n",
    "# Create a SFD map object to query\n",
    "emap = sfdmap.SFDMap('/Users/kgilbert/astroconda_package_data/sfdmap/sfddata-master/', scaling=1.0) \n",
    "# By default this applies a a scaling of 0.86 is applied to the map values to reflect the \n",
    "# recalibration by Schlafly & Finkbeiner (2011). \n",
    "# To get the original SFD values, use scaling=1.0 when constructing the map\n",
    "\n",
    "## The band extinction factors above are to be applied to SFD values to obtain \n",
    "# the recalibrated SandF bandpass extinction.  Confusing."
   ]
  },
  {
   "cell_type": "code",
   "execution_count": 158,
   "metadata": {},
   "outputs": [
    {
     "name": "stdout",
     "output_type": "stream",
     "text": [
      "[ 0.04491931  0.04495219  0.06319197 ...,  0.04476178  0.03181879\n",
      "  0.04427977]\n"
     ]
    }
   ],
   "source": [
    "extinct_map = emap.ebv(sc_tbdata)\n",
    "print(extinct_map)"
   ]
  },
  {
   "cell_type": "code",
   "execution_count": 159,
   "metadata": {},
   "outputs": [
    {
     "name": "stdout",
     "output_type": "stream",
     "text": [
      "0.0388\n",
      "0.0451\n"
     ]
    }
   ],
   "source": [
    "# it takes too long to query irsa dustmaps for every object individually\n",
    "# just use this to doublecheck the sfdmap\n",
    "from astroquery.irsa_dust import IrsaDust\n",
    "\n",
    "table = IrsaDust.get_query_table(sc_tbdata[0], section='ebv')\n",
    "print(table['ext SandF mean'][0]) # 2011 recalibratino of SFD 1998\n",
    "print(table['ext SFD mean'][0]) # 1998\n"
   ]
  },
  {
   "cell_type": "markdown",
   "metadata": {},
   "source": [
    "The sfdmaps are off by about 0.002 to 0.004 mags from what IRSA returns.  Probably good enough.  Maybe IRSA is using a slightly different version of the maps."
   ]
  },
  {
   "cell_type": "code",
   "execution_count": 160,
   "metadata": {
    "collapsed": true
   },
   "outputs": [],
   "source": [
    "feh = Column(extinct_map, name='EBV_SFD98')\n",
    "\n",
    "# Set up new columns for the spectroscopic data table\n",
    "mag1_cfht = Column(tbdata['G_AUTO_CFHT'] - extinct_map*sdss_g, name='G_AUTO_CFHT_0')\n",
    "mag2_cfht = Column(tbdata['I_AUTO_CFHT'] - extinct_map*sdss_i, name='I_AUTO_CFHT_0') \n",
    "\n",
    "mag1a_hst16b = Column(tbdata['F475W_ACS'] - extinct_map*acs_475, name='F475W_ACS_0')\n",
    "mag1b_hst16b = Column(tbdata['F606W_ACS'] - extinct_map*acs_606, name='F606W_ACS_0')\n",
    "mag2_hst16b = Column(tbdata['F814W_ACS'] - extinct_map*acs_814, name='F814W_ACS_0')\n",
    "\n",
    "# current photometry file doesn't have error\n",
    "mag1_hst18b = Column(tbdata['F475W_VEGA'] - extinct_map*acs_475, name='F475W_VEGA_0')\n",
    "mag2_hst18b = Column(tbdata['F814W_VEGA'] - extinct_map*acs_814, name='F814W_VEGA_0')"
   ]
  },
  {
   "cell_type": "code",
   "execution_count": 161,
   "metadata": {
    "collapsed": true,
    "scrolled": true
   },
   "outputs": [],
   "source": [
    "tbdata.add_columns([mag1_cfht, mag2_cfht, mag1a_hst16b, \n",
    "                    mag1b_hst16b, mag2_hst16b, \n",
    "                    mag1_hst18b, mag2_hst18b, feh])"
   ]
  },
  {
   "cell_type": "markdown",
   "metadata": {},
   "source": [
    "### Plot isochrones on CMDs of Spectroscopic Targets"
   ]
  },
  {
   "cell_type": "code",
   "execution_count": 162,
   "metadata": {
    "collapsed": true
   },
   "outputs": [],
   "source": [
    "# Read in Padova isochrones\n",
    "megacam_iso_file = 'Padova_isochrones/Padova_MegaCam_04182019_1to12Gyr_neg2.2to0.5.dat.txt'\n",
    "hst_iso_file = 'Padova_isochrones/Padova_HSTACS_04182019_1to12Gyr_neg2.2to0.5.dat.txt'\n",
    "padova_header_megacam = ['Zini', 'logAge', 'Mini', 'int_IMF',  'Mass',   'logL',  \n",
    "                         'logTe',  'logg', 'label', 'mbolmag', \n",
    "                         'umag',   'gmag',   'rmag',   'imag',   'zmag']\n",
    "padova_header_hst = ['Zini', 'logAge', 'Mini', 'int_IMF',  'Mass',   'logL',  \n",
    "                     'logTe',  'logg', 'label', 'mbolmag',     \n",
    "                     'F435Wmag',  'F475Wmag',  'F502Nmag', 'F550Mmag',  'F555Wmag',  'F606Wmag',   \n",
    "                     'F625Wmag',  'F658Nmag',  'F660Nmag',  'F775Wmag',  'F814Wmag',  'F850LPmag']\n",
    "\n",
    "# Limits for CMD RGB selection boxes\n",
    "lum_low_limit_f606w = 2.2 # lowest logL to use for RGB selection box\n",
    "lum_low_limit_cfht = 2.6\n",
    "lum_low_limit_f475w_16b = 2.6\n",
    "lum_low_limit_f475w_18b = 3.0\n",
    "\n",
    "zini_red_cfht = [0.0094623]\n",
    "zini_red_f475w_16b = [0.0075748]\n",
    "# zini_red_f606w = [0.0094623]\n",
    "zini_red_f606w = [0.0075748] # this one is tighter for contamination estimate\n",
    "zini_red_f475w_18b = [0.0094623]\n",
    "\n",
    "zini_blue = [9.8074e-05]"
   ]
  },
  {
   "cell_type": "code",
   "execution_count": 163,
   "metadata": {
    "collapsed": true
   },
   "outputs": [],
   "source": [
    "megacam_isos = ascii.read(megacam_iso_file)\n",
    "hstacs_isos = ascii.read(hst_iso_file)"
   ]
  },
  {
   "cell_type": "code",
   "execution_count": 165,
   "metadata": {},
   "outputs": [
    {
     "ename": "KeyError",
     "evalue": "'Column col1 does not exist'",
     "output_type": "error",
     "traceback": [
      "\u001b[0;31m---------------------------------------------------------------------------\u001b[0m",
      "\u001b[0;31mKeyError\u001b[0m                                  Traceback (most recent call last)",
      "\u001b[0;32m<ipython-input-165-e36e48584722>\u001b[0m in \u001b[0;36m<module>\u001b[0;34m\u001b[0m\n\u001b[1;32m      1\u001b[0m \u001b[0;32mfor\u001b[0m \u001b[0mp\u001b[0m \u001b[0;32min\u001b[0m \u001b[0mrange\u001b[0m\u001b[0;34m(\u001b[0m\u001b[0mlen\u001b[0m\u001b[0;34m(\u001b[0m\u001b[0mpadova_header_megacam\u001b[0m\u001b[0;34m)\u001b[0m\u001b[0;34m)\u001b[0m\u001b[0;34m:\u001b[0m\u001b[0;34m\u001b[0m\u001b[0;34m\u001b[0m\u001b[0m\n\u001b[0;32m----> 2\u001b[0;31m     \u001b[0mmegacam_isos\u001b[0m\u001b[0;34m.\u001b[0m\u001b[0mrename_column\u001b[0m\u001b[0;34m(\u001b[0m\u001b[0;34m'col'\u001b[0m\u001b[0;34m+\u001b[0m\u001b[0mstr\u001b[0m\u001b[0;34m(\u001b[0m\u001b[0mp\u001b[0m\u001b[0;34m+\u001b[0m\u001b[0;36m1\u001b[0m\u001b[0;34m)\u001b[0m\u001b[0;34m,\u001b[0m \u001b[0mpadova_header_megacam\u001b[0m\u001b[0;34m[\u001b[0m\u001b[0mp\u001b[0m\u001b[0;34m]\u001b[0m\u001b[0;34m)\u001b[0m\u001b[0;34m\u001b[0m\u001b[0;34m\u001b[0m\u001b[0m\n\u001b[0m\u001b[1;32m      3\u001b[0m \u001b[0mprint\u001b[0m\u001b[0;34m(\u001b[0m\u001b[0mmegacam_isos\u001b[0m\u001b[0;34m)\u001b[0m\u001b[0;34m\u001b[0m\u001b[0;34m\u001b[0m\u001b[0m\n\u001b[1;32m      4\u001b[0m \u001b[0;34m\u001b[0m\u001b[0m\n\u001b[1;32m      5\u001b[0m \u001b[0;32mfor\u001b[0m \u001b[0mp\u001b[0m \u001b[0;32min\u001b[0m \u001b[0mrange\u001b[0m\u001b[0;34m(\u001b[0m\u001b[0mlen\u001b[0m\u001b[0;34m(\u001b[0m\u001b[0mpadova_header_hst\u001b[0m\u001b[0;34m)\u001b[0m\u001b[0;34m)\u001b[0m\u001b[0;34m:\u001b[0m\u001b[0;34m\u001b[0m\u001b[0;34m\u001b[0m\u001b[0m\n",
      "\u001b[0;32m~/anaconda/envs/astroconda3.6/lib/python3.6/site-packages/astropy/table/table.py\u001b[0m in \u001b[0;36mrename_column\u001b[0;34m(self, name, new_name)\u001b[0m\n\u001b[1;32m   2152\u001b[0m \u001b[0;34m\u001b[0m\u001b[0m\n\u001b[1;32m   2153\u001b[0m         \u001b[0;32mif\u001b[0m \u001b[0mname\u001b[0m \u001b[0;32mnot\u001b[0m \u001b[0;32min\u001b[0m \u001b[0mself\u001b[0m\u001b[0;34m.\u001b[0m\u001b[0mkeys\u001b[0m\u001b[0;34m(\u001b[0m\u001b[0;34m)\u001b[0m\u001b[0;34m:\u001b[0m\u001b[0;34m\u001b[0m\u001b[0;34m\u001b[0m\u001b[0m\n\u001b[0;32m-> 2154\u001b[0;31m             \u001b[0;32mraise\u001b[0m \u001b[0mKeyError\u001b[0m\u001b[0;34m(\u001b[0m\u001b[0;34m\"Column {0} does not exist\"\u001b[0m\u001b[0;34m.\u001b[0m\u001b[0mformat\u001b[0m\u001b[0;34m(\u001b[0m\u001b[0mname\u001b[0m\u001b[0;34m)\u001b[0m\u001b[0;34m)\u001b[0m\u001b[0;34m\u001b[0m\u001b[0;34m\u001b[0m\u001b[0m\n\u001b[0m\u001b[1;32m   2155\u001b[0m \u001b[0;34m\u001b[0m\u001b[0m\n\u001b[1;32m   2156\u001b[0m         \u001b[0mself\u001b[0m\u001b[0;34m.\u001b[0m\u001b[0mcolumns\u001b[0m\u001b[0;34m[\u001b[0m\u001b[0mname\u001b[0m\u001b[0;34m]\u001b[0m\u001b[0;34m.\u001b[0m\u001b[0minfo\u001b[0m\u001b[0;34m.\u001b[0m\u001b[0mname\u001b[0m \u001b[0;34m=\u001b[0m \u001b[0mnew_name\u001b[0m\u001b[0;34m\u001b[0m\u001b[0;34m\u001b[0m\u001b[0m\n",
      "\u001b[0;31mKeyError\u001b[0m: 'Column col1 does not exist'"
     ]
    }
   ],
   "source": [
    "for p in range(len(padova_header_megacam)):\n",
    "    megacam_isos.rename_column('col'+str(p+1), padova_header_megacam[p])\n",
    "print(megacam_isos)\n",
    "\n",
    "for p in range(len(padova_header_hst)):\n",
    "    hstacs_isos.rename_column('col'+str(p+1), padova_header_hst[p])"
   ]
  },
  {
   "cell_type": "code",
   "execution_count": null,
   "metadata": {
    "collapsed": true
   },
   "outputs": [],
   "source": [
    "# pick out only the 10 Gyr isochrones, and only the RGB phase\n",
    "m_iso = ((megacam_isos['label'] == 3) & (megacam_isos['logAge'] == 10.0))\n",
    "print(megacam_isos[m_iso])\n",
    "m_iso_mp = ((megacam_isos['label'] == 3) & (megacam_isos['logAge'] == 10.0) & (megacam_isos['Zini'] == 9.8074e-05))\n",
    "m_iso_mr = ((megacam_isos['label'] == 3) & (megacam_isos['logAge'] == 10.0) & (megacam_isos['Zini'] == 0.03406))\n",
    "\n",
    "# approximately every third metallicity\n",
    "zini_array = [9.8074e-05, 0.00019566, 0.00039027, 0.00077762, 0.0015465, 0.0030658, 0.0060554, 0.011807,\n",
    "             0.022557, 0.03406]\n",
    "\n"
   ]
  },
  {
   "cell_type": "code",
   "execution_count": null,
   "metadata": {
    "collapsed": true
   },
   "outputs": [],
   "source": [
    "print(megacam_isos[m_iso_mp][30])\n",
    "print(megacam_isos[m_iso_mr][44])"
   ]
  },
  {
   "cell_type": "code",
   "execution_count": null,
   "metadata": {
    "collapsed": true
   },
   "outputs": [],
   "source": [
    "print(list(sorted(set(megacam_isos['Zini']))))\n",
    "print()\n",
    "print(list(sorted(set(megacam_isos['logAge']))))"
   ]
  },
  {
   "cell_type": "code",
   "execution_count": null,
   "metadata": {
    "collapsed": true
   },
   "outputs": [],
   "source": [
    "for z in zini_array:\n",
    "    m_iso = ((megacam_isos['label'] == 3) & (megacam_isos['logAge'] == 10.0) & (megacam_isos['Zini'] == z))\n",
    "    plt.plot(megacam_isos['gmag'][m_iso] - megacam_isos['imag'][m_iso], \n",
    "             megacam_isos['imag'][m_iso]+m33_dmod, color='dimgrey', alpha=0.5)\n",
    "\n",
    "\n",
    "\n",
    "for z in zini_array:\n",
    "    m_iso = ((megacam_isos['label'] == 3) & (megacam_isos['logAge'] == 10.0) & (megacam_isos['Zini'] == z))\n",
    "    m_low = (megacam_isos[m_iso]['logL'] > lum_low_limit_cfht)\n",
    "    plt.scatter(megacam_isos['gmag'][m_iso][m_low][0] - megacam_isos['imag'][m_iso][m_low][0], \n",
    "             megacam_isos['imag'][m_iso][m_low][0]+m33_dmod, color='dimgrey', alpha=0.5)\n",
    "    plt.scatter(megacam_isos['gmag'][m_iso][-1] - megacam_isos['imag'][m_iso][-1], \n",
    "             megacam_isos['imag'][m_iso][-1]+m33_dmod, color='dimgrey', alpha=0.5)\n",
    "\n",
    "plt.ylim(28,20.8)\n",
    "\n"
   ]
  },
  {
   "cell_type": "code",
   "execution_count": null,
   "metadata": {
    "collapsed": true
   },
   "outputs": [],
   "source": [
    "plt.plot(megacam_isos['gmag'][m_iso_mp] - megacam_isos['imag'][m_iso_mp], megacam_isos['imag'][m_iso_mp]+m33_dmod)\n",
    "plt.plot(megacam_isos['gmag'][m_iso_mr] - megacam_isos['imag'][m_iso_mr], megacam_isos['imag'][m_iso_mr]+m33_dmod)\n",
    "plt.scatter(megacam_isos['gmag'][m_iso] - megacam_isos['imag'][m_iso], megacam_isos['imag'][m_iso]+m33_dmod, s=0.5)\n",
    "\n",
    "plt.ylim(28,20.8)"
   ]
  },
  {
   "cell_type": "code",
   "execution_count": 166,
   "metadata": {},
   "outputs": [
    {
     "data": {
      "text/plain": [
       "Text(0.5, 1.0, 'Targets from CFHT Catalog (2016B and 2018B)')"
      ]
     },
     "execution_count": 166,
     "metadata": {},
     "output_type": "execute_result"
    },
    {
     "data": {
      "image/png": "[encoded data removed]",
      "text/plain": [
       "<Figure size 432x288 with 1 Axes>"
      ]
     },
     "metadata": {
      "needs_background": "light"
     },
     "output_type": "display_data"
    }
   ],
   "source": [
    "m = ((tbdata['ZQUALITY'] >= zqualityflag) & (~np.isnan(tbdata['G_AUTO_CFHT'])))\n",
    "m2 = (~np.isnan(tbdata['G_AUTO_CFHT']))\n",
    "\n",
    "\n",
    "for z in zini_array:\n",
    "    # 10 Gyr, a selection of metallicities spanning the full rante of the isochrones\n",
    "    m_iso = ((megacam_isos['label'] == 3) & (megacam_isos['logAge'] == 10.0) & (megacam_isos['Zini'] == z))\n",
    "    plt.plot(megacam_isos['gmag'][m_iso] - megacam_isos['imag'][m_iso], \n",
    "             megacam_isos['imag'][m_iso]+m33_dmod, color='dimgrey', alpha=0.5, label = '_nolegend_')\n",
    "    m_low = (megacam_isos[m_iso]['logL'] > lum_low_limit_cfht)\n",
    "    plt.scatter(megacam_isos['gmag'][m_iso][m_low][0] - megacam_isos['imag'][m_iso][m_low][0], \n",
    "             megacam_isos['imag'][m_iso][m_low][0]+m33_dmod, color='dimgrey', alpha=0.5)\n",
    "    plt.scatter(megacam_isos['gmag'][m_iso][-1] - megacam_isos['imag'][m_iso][-1], \n",
    "             megacam_isos['imag'][m_iso][-1]+m33_dmod, color='dimgrey', alpha=0.5)\n",
    "\n",
    "\n",
    "m_iso_r = ((megacam_isos['label'] == 3) & (megacam_isos['logAge'] == 10.0) & (megacam_isos['Zini'] == zini_red_cfht))\n",
    "m_iso_p = ((megacam_isos['label'] == 3) & (megacam_isos['logAge'] == 10.0) & (megacam_isos['Zini'] == zini_blue))\n",
    "plt.plot(megacam_isos['gmag'][m_iso_r] - megacam_isos['imag'][m_iso_r], \n",
    "            megacam_isos['imag'][m_iso_r]+m33_dmod, color='turquoise', alpha=0.5, label = '_nolegend_')\n",
    "plt.plot(megacam_isos['gmag'][m_iso_p] - megacam_isos['imag'][m_iso_p], \n",
    "            megacam_isos['imag'][m_iso_p]+m33_dmod, color='turquoise', alpha=0.5, label = '_nolegend_')\n",
    "\n",
    "\n",
    "for z in zini_array[0:3]:\n",
    "    # 2 Gyr, 3 most metal-poor\n",
    "    m_iso = ((megacam_isos['label'] == 3) & (megacam_isos['logAge'] == 9.301) & (megacam_isos['Zini'] == z))\n",
    "    plt.plot(megacam_isos['gmag'][m_iso] - megacam_isos['imag'][m_iso], \n",
    "             megacam_isos['imag'][m_iso]+m33_dmod, color='magenta', alpha=0.5, label = '_nolegend_')\n",
    "    \n",
    "\n",
    "clrerr = np.sqrt(tbdata['G_AUTO_CFHT_ERR']**2. + tbdata['I_AUTO_CFHT_ERR']*2.)\n",
    "plt.errorbar(tbdata['G_AUTO_CFHT_0'][m] - tbdata['I_AUTO_CFHT_0'][m], tbdata['I_AUTO_CFHT_0'][m], \n",
    "             xerr = clrerr[m], yerr = tbdata['I_AUTO_CFHT_ERR'][m], alpha=0.5, fmt = 'none',\n",
    "             color = 'lightgrey', label = '_nolegend_', zorder = 1)\n",
    "plt.scatter(tbdata['G_AUTO_CFHT_0'] - tbdata['I_AUTO_CFHT_0'], tbdata['I_AUTO_CFHT_0'], s=5, alpha=0.2,\n",
    "            label = 'Targets ('+str(len(tbdata['G_AUTO_CFHT'][m2]))+')')\n",
    "plt.scatter(tbdata['G_AUTO_CFHT_0'][m] - tbdata['I_AUTO_CFHT_0'][m], tbdata['I_AUTO_CFHT_0'][m], s=5, alpha=0.5,\n",
    "            label = 'Measured Velocity ('+str(len(tbdata['G_AUTO_CFHT'][m]))+')')\n",
    "\n",
    "plt.xlim(-1.5,4.5)\n",
    "plt.ylim(25.5,18.1)\n",
    "plt.legend()\n",
    "plt.xlabel('g - i')\n",
    "plt.ylabel('i')\n",
    "plt.title('Targets from CFHT Catalog (2016B and 2018B)')"
   ]
  },
  {
   "cell_type": "code",
   "execution_count": 167,
   "metadata": {},
   "outputs": [
    {
     "data": {
      "text/plain": [
       "Text(0.5, 1.0, 'Targets from 2016B HST Catalogs')"
      ]
     },
     "execution_count": 167,
     "metadata": {},
     "output_type": "execute_result"
    },
    {
     "data": {
      "image/png": "[encoded data removed]",
      "text/plain": [
       "<Figure size 432x288 with 1 Axes>"
      ]
     },
     "metadata": {
      "needs_background": "light"
     },
     "output_type": "display_data"
    }
   ],
   "source": [
    "m = ((tbdata['ZQUALITY'] >= zqualityflag) & (~np.isnan(tbdata['F475W_ACS'])))\n",
    "m2 = (~np.isnan(tbdata['F475W_ACS']))\n",
    "\n",
    "#plt.scatter(tbdata['F475W_ACS']-tbdata['F814W_ACS'], tbdata['F814W_ACS'], s=5, alpha=0.2,\n",
    "#            label = 'Targets ('+str(len(tbdata['F475W_ACS'][m2]))+')')\n",
    "#plt.scatter(tbdata['F475W_ACS'][m]-tbdata['F814W_ACS'][m], tbdata['F814W_ACS'][m], s=5, alpha=0.5,\n",
    "#            label = 'Measured Velocity ('+str(len(tbdata['F814W_ACS'][m]))+')')\n",
    "\n",
    "\n",
    "\n",
    "for z in zini_array:\n",
    "    # 10 Gyr, a selection of metallicities spanning the full rante of the isochrones\n",
    "    m_iso = ((hstacs_isos['label'] == 3) & (hstacs_isos['logAge'] == 10.0) & (hstacs_isos['Zini'] == z))\n",
    "    plt.plot(hstacs_isos['F475Wmag'][m_iso] - hstacs_isos['F814Wmag'][m_iso], \n",
    "             hstacs_isos['F814Wmag'][m_iso]+m33_dmod, color='dimgrey', alpha=0.5, label = '_nolegend_')\n",
    "    m_low = (hstacs_isos[m_iso]['logL'] > lum_low_limit_f475w_16b)\n",
    "    plt.scatter(hstacs_isos['F475Wmag'][m_iso][m_low][0] - hstacs_isos['F814Wmag'][m_iso][m_low][0], \n",
    "             hstacs_isos['F814Wmag'][m_iso][m_low][0]+m33_dmod, color='dimgrey', alpha=0.5)\n",
    "    plt.scatter(hstacs_isos['F475Wmag'][m_iso][-1] - hstacs_isos['F814Wmag'][m_iso][-1], \n",
    "             hstacs_isos['F814Wmag'][m_iso][-1]+m33_dmod, color='dimgrey', alpha=0.5)\n",
    "\n",
    "m_iso_r = ((hstacs_isos['label'] == 3) & (hstacs_isos['logAge'] == 10.0) & (hstacs_isos['Zini'] == zini_red_f475w_16b))\n",
    "m_iso_p = ((hstacs_isos['label'] == 3) & (hstacs_isos['logAge'] == 10.0) & (hstacs_isos['Zini'] == zini_blue))\n",
    "plt.plot(hstacs_isos['F475Wmag'][m_iso_r] - hstacs_isos['F814Wmag'][m_iso_r], \n",
    "            hstacs_isos['F814Wmag'][m_iso_r]+m33_dmod, color='turquoise', alpha=0.5, label = '_nolegend_')\n",
    "plt.plot(hstacs_isos['F475Wmag'][m_iso_p] - hstacs_isos['F814Wmag'][m_iso_p], \n",
    "            hstacs_isos['F814Wmag'][m_iso_p]+m33_dmod, color='turquoise', alpha=0.5, label = '_nolegend_')\n",
    "\n",
    "for z in zini_array[0:3]:\n",
    "    # 2 Gyr, 3 most metal-poor\n",
    "    m_iso = ((hstacs_isos['label'] == 3) & (hstacs_isos['logAge'] == 9.301) & (hstacs_isos['Zini'] == z))\n",
    "    plt.plot(hstacs_isos['F475Wmag'][m_iso] - hstacs_isos['F814Wmag'][m_iso], \n",
    "             hstacs_isos['F814Wmag'][m_iso]+m33_dmod, color='magenta', alpha=0.5, label = '_nolegend_')\n",
    "\n",
    "clrerr = np.sqrt(tbdata['F475W_ACS_ERR']**2. + tbdata['F814W_ACS_ERR']*2.)\n",
    "plt.errorbar(tbdata['F475W_ACS_0'][m] - tbdata['F814W_ACS_0'][m], tbdata['F814W_ACS_0'][m], \n",
    "             xerr = clrerr[m], yerr = tbdata['F814W_ACS_ERR'][m], alpha=0.5, fmt = 'none',\n",
    "             color = 'lightgrey', label = '_nolegend_', zorder = 1)\n",
    "plt.scatter(tbdata['F475W_ACS_0']-tbdata['F814W_ACS_0'], tbdata['F814W_ACS_0'], s=5, alpha=0.2,\n",
    "            label = 'Targets ('+str(len(tbdata['F475W_ACS'][m2]))+')')\n",
    "plt.scatter(tbdata['F475W_ACS_0'][m]-tbdata['F814W_ACS_0'][m], tbdata['F814W_ACS_0'][m], s=5, alpha=0.5,\n",
    "            label = 'Measured Velocity ('+str(len(tbdata['F814W_ACS'][m]))+')')\n",
    "plt.xlim(-1.5,5.5)\n",
    "plt.ylim(24.5,18.5)\n",
    "plt.legend()\n",
    "plt.xlabel('F475W - F814W')\n",
    "plt.ylabel('F814W')\n",
    "plt.title('Targets from 2016B HST Catalogs')"
   ]
  },
  {
   "cell_type": "code",
   "execution_count": 168,
   "metadata": {},
   "outputs": [
    {
     "data": {
      "text/plain": [
       "Text(0.5, 1.0, 'Targets from 2016B HST Catalogs')"
      ]
     },
     "execution_count": 168,
     "metadata": {},
     "output_type": "execute_result"
    },
    {
     "data": {
      "image/png": "[encoded data removed]",
      "text/plain": [
       "<Figure size 432x288 with 1 Axes>"
      ]
     },
     "metadata": {
      "needs_background": "light"
     },
     "output_type": "display_data"
    }
   ],
   "source": [
    "m = ((tbdata['ZQUALITY'] >= zqualityflag) & (~np.isnan(tbdata['F606W_ACS'])))\n",
    "m2 = (~np.isnan(tbdata['F606W_ACS']))\n",
    "\n",
    "#plt.scatter(tbdata['F606W_ACS']-tbdata['F814W_ACS'], tbdata['F814W_ACS'], s=5, alpha=0.2, \n",
    "#            label = 'Targets ('+str(len(tbdata['F606W_ACS'][m2]))+')')\n",
    "#plt.scatter(tbdata['F606W_ACS'][m]-tbdata['F814W_ACS'][m], tbdata['F814W_ACS'][m], s=5, alpha=0.5, \n",
    "#            label = 'Measured Velocity ('+str(len(tbdata['F606W_ACS'][m]))+')')\n",
    "\n",
    "\n",
    "\n",
    "for z in zini_array:\n",
    "    # 10 Gyr, a selection of metallicities spanning the full rante of the isochrones\n",
    "    m_iso = ((hstacs_isos['label'] == 3) & (hstacs_isos['logAge'] == 10.0) & (hstacs_isos['Zini'] == z))\n",
    "    plt.plot(hstacs_isos['F606Wmag'][m_iso] - hstacs_isos['F814Wmag'][m_iso], \n",
    "             hstacs_isos['F814Wmag'][m_iso]+m33_dmod, color='dimgrey', alpha=0.5, label = '_nolegend_')\n",
    "    m_low = (hstacs_isos[m_iso]['logL'] > lum_low_limit_f606w)\n",
    "    plt.scatter(hstacs_isos['F606Wmag'][m_iso][m_low][0] - hstacs_isos['F814Wmag'][m_iso][m_low][0], \n",
    "             hstacs_isos['F814Wmag'][m_iso][m_low][0]+m33_dmod, color='turquoise', alpha=0.5)\n",
    "    plt.scatter(hstacs_isos['F606Wmag'][m_iso][-1] - hstacs_isos['F814Wmag'][m_iso][-1], \n",
    "             hstacs_isos['F814Wmag'][m_iso][-1]+m33_dmod, color='turquoise', alpha=0.5)\n",
    "\n",
    "m_iso_r = ((hstacs_isos['label'] == 3) & (hstacs_isos['logAge'] == 10.0) & (hstacs_isos['Zini'] == zini_red_f606w))\n",
    "m_iso_p = ((hstacs_isos['label'] == 3) & (hstacs_isos['logAge'] == 10.0) & (hstacs_isos['Zini'] == zini_blue))\n",
    "plt.plot(hstacs_isos['F606Wmag'][m_iso_r] - hstacs_isos['F814Wmag'][m_iso_r], \n",
    "            hstacs_isos['F814Wmag'][m_iso_r]+m33_dmod, color='turquoise', alpha=0.5, label = '_nolegend_')\n",
    "plt.plot(hstacs_isos['F606Wmag'][m_iso_p] - hstacs_isos['F814Wmag'][m_iso_p], \n",
    "            hstacs_isos['F814Wmag'][m_iso_p]+m33_dmod, color='turquoise', alpha=0.5, label = '_nolegend_')\n",
    "\n",
    "\n",
    "for z in zini_array[0:3]:\n",
    "    # 2 Gyr, 3 most metal-poor\n",
    "    m_iso = ((hstacs_isos['label'] == 3) & (hstacs_isos['logAge'] == 9.301) & (hstacs_isos['Zini'] == z))\n",
    "    plt.plot(hstacs_isos['F606Wmag'][m_iso] - hstacs_isos['F814Wmag'][m_iso], \n",
    "             hstacs_isos['F814Wmag'][m_iso]+m33_dmod, color='magenta', alpha=0.5, label = '_nolegend_')\n",
    "\n",
    "\n",
    "clrerr = np.sqrt(tbdata['F606W_ACS_ERR']**2. + tbdata['F814W_ACS_ERR']*2.)\n",
    "plt.errorbar(tbdata['F606W_ACS_0'][m] - tbdata['F814W_ACS_0'][m], tbdata['F814W_ACS_0'][m], \n",
    "             xerr = clrerr[m], yerr = tbdata['F814W_ACS_ERR'][m], alpha=0.5, fmt = 'none',\n",
    "             color = 'lightgrey', label = '_nolegend_', zorder = 1)\n",
    "plt.scatter(tbdata['F606W_ACS_0']-tbdata['F814W_ACS_0'], tbdata['F814W_ACS_0'], s=5, alpha=0.2, \n",
    "            label = 'Targets ('+str(len(tbdata['F606W_ACS'][m2]))+')')\n",
    "plt.scatter(tbdata['F606W_ACS_0'][m]-tbdata['F814W_ACS_0'][m], tbdata['F814W_ACS_0'][m], s=5, alpha=0.5, \n",
    "            label = 'Measured Velocity ('+str(len(tbdata['F606W_ACS'][m]))+')')\n",
    "plt.xlim(-1.5,4.5)\n",
    "plt.ylim(24.5,18.5)\n",
    "plt.legend()\n",
    "plt.xlabel('F606W - F814W')\n",
    "plt.ylabel('F814W')\n",
    "plt.title('Targets from 2016B HST Catalogs')"
   ]
  },
  {
   "cell_type": "code",
   "execution_count": 169,
   "metadata": {},
   "outputs": [
    {
     "data": {
      "text/plain": [
       "Text(0.5, 1.0, 'Targets from 2018B HST Catalogs')"
      ]
     },
     "execution_count": 169,
     "metadata": {},
     "output_type": "execute_result"
    },
    {
     "data": {
      "image/png": "[encoded data removed]",
      "text/plain": [
       "<Figure size 432x288 with 1 Axes>"
      ]
     },
     "metadata": {
      "needs_background": "light"
     },
     "output_type": "display_data"
    }
   ],
   "source": [
    "m = ((tbdata['ZQUALITY'] >= zqualityflag) & (~np.isnan(tbdata['F475W_VEGA'])))\n",
    "m2 = (~np.isnan(tbdata['F475W_VEGA']))\n",
    "\n",
    "\n",
    "for z in zini_array:\n",
    "    # 10 Gyr, a selection of metallicities spanning the full rante of the isochrones\n",
    "    m_iso = ((hstacs_isos['label'] == 3) & (hstacs_isos['logAge'] == 10.0) & (hstacs_isos['Zini'] == z))\n",
    "    plt.plot(hstacs_isos['F475Wmag'][m_iso] - hstacs_isos['F814Wmag'][m_iso], \n",
    "             hstacs_isos['F814Wmag'][m_iso]+m33_dmod, color='dimgrey', alpha=0.5, label = '_nolegend_')\n",
    "    m_low = (hstacs_isos[m_iso]['logL'] > lum_low_limit_f475w_18b)\n",
    "    plt.scatter(hstacs_isos['F475Wmag'][m_iso][m_low][0] - hstacs_isos['F814Wmag'][m_iso][m_low][0], \n",
    "             hstacs_isos['F814Wmag'][m_iso][m_low][0]+m33_dmod, color='dimgrey', alpha=0.5)\n",
    "    plt.scatter(hstacs_isos['F475Wmag'][m_iso][-1] - hstacs_isos['F814Wmag'][m_iso][-1], \n",
    "             hstacs_isos['F814Wmag'][m_iso][-1]+m33_dmod, color='dimgrey', alpha=0.5)\n",
    "\n",
    "m_iso_r = ((hstacs_isos['label'] == 3) & (hstacs_isos['logAge'] == 10.0) & (hstacs_isos['Zini'] == zini_red_f475w_18b))\n",
    "m_iso_p = ((hstacs_isos['label'] == 3) & (hstacs_isos['logAge'] == 10.0) & (hstacs_isos['Zini'] == zini_blue))\n",
    "plt.plot(hstacs_isos['F475Wmag'][m_iso_r] - hstacs_isos['F814Wmag'][m_iso_r], \n",
    "            hstacs_isos['F814Wmag'][m_iso_r]+m33_dmod, color='turquoise', alpha=0.5, label = '_nolegend_')\n",
    "plt.plot(hstacs_isos['F475Wmag'][m_iso_p] - hstacs_isos['F814Wmag'][m_iso_p], \n",
    "            hstacs_isos['F814Wmag'][m_iso_p]+m33_dmod, color='turquoise', alpha=0.5, label = '_nolegend_')\n",
    "\n",
    "\n",
    "for z in zini_array[0:3]:\n",
    "    # 2 Gyr, 3 most metal-poor\n",
    "    m_iso = ((hstacs_isos['label'] == 3) & (hstacs_isos['logAge'] == 9.301) & (hstacs_isos['Zini'] == z))\n",
    "    plt.plot(hstacs_isos['F475Wmag'][m_iso] - hstacs_isos['F814Wmag'][m_iso], \n",
    "             hstacs_isos['F814Wmag'][m_iso]+m33_dmod, color='magenta', alpha=0.5, label = '_nolegend_')\n",
    "\n",
    "\n",
    "plt.scatter(tbdata['F475W_VEGA_0']-tbdata['F814W_VEGA_0'], tbdata['F814W_VEGA_0'], s=5, alpha=0.2, \n",
    "            label = 'Targets ('+str(len(tbdata['F475W_VEGA'][m2]))+')')\n",
    "plt.scatter(tbdata['F475W_VEGA_0'][m]-tbdata['F814W_VEGA_0'][m], tbdata['F814W_VEGA_0'][m], s=5, alpha=0.5, \n",
    "            label = 'Measured Velocity ('+str(len(tbdata['F475W_VEGA'][m]))+')')\n",
    "#plt.scatter(tbdata['F475W_VEGA_0'][m]-tbdata['F814W_VEGA_0'][m], tbdata['F814W_VEGA_0'][m], s=5, alpha=0.5, \n",
    "#            label = 'Measured Velocity (extinction corrected)')\n",
    "m3 = ((np.core.defchararray.find(list(tbdata['TARGTYPE']),'RGB') > -1) & (~np.isnan(tbdata['F475W_VEGA'])))\n",
    "plt.scatter(tbdata['F475W_VEGA_0'][m3]-tbdata['F814W_VEGA_0'][m3], tbdata['F814W_VEGA_0'][m3], s=5, alpha=0.5, \n",
    "            label = 'RGB Targets ('+str(len(tbdata['F475W_VEGA'][m3]))+')')\n",
    "m3 = ((np.core.defchararray.find(list(tbdata['TARGTYPE']),'RGB') > -1) & (~np.isnan(tbdata['F475W_VEGA'])) \n",
    "      & (tbdata['ZQUALITY'] >= zqualityflag))\n",
    "plt.scatter(tbdata['F475W_VEGA_0'][m3]-tbdata['F814W_VEGA_0'][m3], tbdata['F814W_VEGA_0'][m3], s=5, alpha=0.5, \n",
    "            label = 'RGB Stars with Measured Velocity ('+str(len(tbdata['F475W_VEGA'][m3]))+')')\n",
    "plt.xlim(-1.5,4.5)\n",
    "plt.ylim(24.5,15.5)\n",
    "plt.legend()\n",
    "plt.xlabel('F475W - F814W')\n",
    "plt.ylabel('F814W')\n",
    "plt.title('Targets from 2018B HST Catalogs')"
   ]
  },
  {
   "cell_type": "code",
   "execution_count": 170,
   "metadata": {
    "collapsed": true
   },
   "outputs": [],
   "source": [
    "# create a polygon from the isochrones\n",
    "def isochrone_poly(bluefilt, redfilt, zini_blue, zini_red, lum_low_limit, isochrones, age = 10.0, dmod = m33_dmod):\n",
    "    poly = []\n",
    "\n",
    "    # simplify logic statements below\n",
    "    m_iso_init = ((isochrones['label'] == 3) & (isochrones['logAge'] == age))\n",
    "    isochrones = isochrones[m_iso_init]\n",
    "    \n",
    "    # first, the metal-poor isochrone\n",
    "    m_iso = ((isochrones['logL'] > lum_low_limit) & (isochrones['Zini'] == zini_blue))\n",
    "    for p in isochrones[m_iso]:\n",
    "        poly.append([p[bluefilt] - p[redfilt], p[redfilt]+dmod])\n",
    "\n",
    "    # next, the TRGB up to the metal-rich isochrone you want to stop at\n",
    "    for z in list(sorted(set(megacam_isos['Zini']))):\n",
    "        #print(z)\n",
    "        if z > zini_blue and z < zini_red:\n",
    "            m_iso = (isochrones['Zini'] == z)\n",
    "            poly.append([isochrones[bluefilt][m_iso][-1] - isochrones[redfilt][m_iso][-1],\n",
    "                         isochrones[redfilt][m_iso][-1]+dmod])\n",
    "\n",
    "    # next, the metal-rich isochrone, in revere order though\n",
    "    m_iso = ((isochrones['logL'] > lum_low_limit) & (isochrones['Zini'] == zini_red))\n",
    "    for p in isochrones[m_iso][::-1]: # this reverses the order of the isochrone\n",
    "        poly.append([p[bluefilt] - p[redfilt], p[redfilt]+dmod])\n",
    "\n",
    "    for z in list(sorted(set(isochrones['Zini'])))[::-1]:\n",
    "        if z > zini_blue and z < zini_red:\n",
    "            m_iso = ((isochrones['Zini'] == z) & (isochrones['logL'] > lum_low_limit))\n",
    "            poly.append([isochrones[bluefilt][m_iso][0] - isochrones[redfilt][m_iso][0],\n",
    "                  isochrones[redfilt][m_iso][0]+dmod])\n",
    "    return(poly)\n",
    "#print(poly)\n",
    "#print([a[0] for a in poly])\n",
    "\n",
    "def plt_isochrone_poly(poly, xlim=[-1.5,4.5], ylim = [24.5,18.5]):\n",
    "    plt.plot([a[0] for a in poly], [a[1] for a in poly], lw = 2)\n",
    "    plt.scatter([a[0] for a in poly], [a[1] for a in poly], s = 10, alpha=0.5, color='magenta')\n",
    "    plt.xlim(xlim[0], xlim[1])\n",
    "    plt.ylim(ylim[0], ylim[1])\n",
    "    plt.show()\n",
    "    \n",
    "    return"
   ]
  },
  {
   "cell_type": "code",
   "execution_count": 171,
   "metadata": {},
   "outputs": [
    {
     "data": {
      "image/png": "[encoded data removed]",
      "text/plain": [
       "<Figure size 432x288 with 1 Axes>"
      ]
     },
     "metadata": {
      "needs_background": "light"
     },
     "output_type": "display_data"
    }
   ],
   "source": [
    "bluefilt = 'F606Wmag'\n",
    "redfilt = 'F814Wmag'\n",
    "zini_red = zini_red_f606w\n",
    "lum_low_limit = lum_low_limit_f606w\n",
    "isochrones = hstacs_isos\n",
    "\n",
    "poly_f606w = isochrone_poly(bluefilt, redfilt, zini_blue, zini_red, lum_low_limit, isochrones)\n",
    "plt_isochrone_poly(poly_f606w)"
   ]
  },
  {
   "cell_type": "code",
   "execution_count": 172,
   "metadata": {},
   "outputs": [
    {
     "data": {
      "image/png": "[encoded data removed]",
      "text/plain": [
       "<Figure size 432x288 with 1 Axes>"
      ]
     },
     "metadata": {
      "needs_background": "light"
     },
     "output_type": "display_data"
    }
   ],
   "source": [
    "bluefilt = 'F475Wmag'\n",
    "redfilt = 'F814Wmag'\n",
    "zini_red = zini_red_f475w_16b\n",
    "lum_low_limit = lum_low_limit_f475w_16b\n",
    "isochrones = hstacs_isos\n",
    "\n",
    "poly_f475w_16b = isochrone_poly(bluefilt, redfilt, zini_blue, zini_red, lum_low_limit, isochrones)\n",
    "plt_isochrone_poly(poly_f475w_16b)"
   ]
  },
  {
   "cell_type": "code",
   "execution_count": 173,
   "metadata": {},
   "outputs": [
    {
     "data": {
      "image/png": "[encoded data removed]",
      "text/plain": [
       "<Figure size 432x288 with 1 Axes>"
      ]
     },
     "metadata": {
      "needs_background": "light"
     },
     "output_type": "display_data"
    }
   ],
   "source": [
    "bluefilt = 'F475Wmag'\n",
    "redfilt = 'F814Wmag'\n",
    "zini_red = zini_red_f475w_18b\n",
    "lum_low_limit = lum_low_limit_f475w_18b\n",
    "isochrones = hstacs_isos\n",
    "\n",
    "poly_f475w_18b = isochrone_poly(bluefilt, redfilt, zini_blue, zini_red, lum_low_limit, isochrones)\n",
    "plt_isochrone_poly(poly_f475w_18b)"
   ]
  },
  {
   "cell_type": "code",
   "execution_count": 174,
   "metadata": {},
   "outputs": [
    {
     "data": {
      "image/png": "[encoded data removed]",
      "text/plain": [
       "<Figure size 432x288 with 1 Axes>"
      ]
     },
     "metadata": {
      "needs_background": "light"
     },
     "output_type": "display_data"
    }
   ],
   "source": [
    "bluefilt = 'gmag'\n",
    "redfilt = 'imag'\n",
    "zini_red = zini_red_cfht\n",
    "lum_low_limit = lum_low_limit_cfht\n",
    "isochrones = megacam_isos\n",
    "\n",
    "poly_cfht = isochrone_poly(bluefilt, redfilt, zini_blue, zini_red, lum_low_limit, isochrones)\n",
    "plt_isochrone_poly(poly_cfht)"
   ]
  },
  {
   "cell_type": "code",
   "execution_count": 175,
   "metadata": {
    "collapsed": true,
    "scrolled": true
   },
   "outputs": [],
   "source": [
    "from matplotlib import path\n"
   ]
  },
  {
   "cell_type": "code",
   "execution_count": 176,
   "metadata": {},
   "outputs": [
    {
     "data": {
      "text/plain": [
       "(24.5, 15.5)"
      ]
     },
     "execution_count": 176,
     "metadata": {},
     "output_type": "execute_result"
    },
    {
     "data": {
      "image/png": "[encoded data removed]",
      "text/plain": [
       "<Figure size 432x288 with 1 Axes>"
      ]
     },
     "metadata": {
      "needs_background": "light"
     },
     "output_type": "display_data"
    }
   ],
   "source": [
    "p = path.Path(poly_cfht)\n",
    "\n",
    "color = tbdata['G_AUTO_CFHT_0'] - tbdata['I_AUTO_CFHT_0']\n",
    "mag = tbdata['I_AUTO_CFHT_0']\n",
    "points = []\n",
    "for c,m in zip(color, mag):\n",
    "    points.append([c,m])\n",
    "#print(points[0:2])\n",
    "m_sel_cfht = p.contains_points(points)\n",
    "#print(color[m])\n",
    "\n",
    "plt.plot([a[0] for a in poly_cfht], [a[1] for a in poly_cfht], lw = 2, color='teal')\n",
    "plt.scatter(color,mag, s=10, alpha=0.5)\n",
    "plt.scatter(color[m_sel_cfht],mag[m_sel_cfht], s=20, alpha=0.75)\n",
    "plt.xlim(-1.5,4.5)\n",
    "plt.ylim(24.5,15.5)"
   ]
  },
  {
   "cell_type": "code",
   "execution_count": 177,
   "metadata": {},
   "outputs": [
    {
     "data": {
      "text/plain": [
       "(24.5, 15.5)"
      ]
     },
     "execution_count": 177,
     "metadata": {},
     "output_type": "execute_result"
    },
    {
     "data": {
      "image/png": "[encoded data removed]",
      "text/plain": [
       "<Figure size 432x288 with 1 Axes>"
      ]
     },
     "metadata": {
      "needs_background": "light"
     },
     "output_type": "display_data"
    }
   ],
   "source": [
    "p = path.Path(poly_f606w)\n",
    "\n",
    "color = tbdata['F606W_ACS_0'] - tbdata['F814W_ACS_0']\n",
    "mag = tbdata['F814W_ACS_0']\n",
    "points = []\n",
    "for c,m in zip(color, mag):\n",
    "    points.append([c,m])\n",
    "#print(points[0:2])\n",
    "m_sel_f606w = p.contains_points(points)\n",
    "#print(color[m])\n",
    "\n",
    "plt.plot([a[0] for a in poly_f606w], [a[1] for a in poly_f606w], lw = 2, color='teal')\n",
    "plt.scatter(color,mag, s=10, alpha=0.5)\n",
    "plt.scatter(color[m_sel_f606w],mag[m_sel_f606w], s=20, alpha=0.75)\n",
    "plt.xlim(-1.5,4.5)\n",
    "plt.ylim(24.5,15.5)"
   ]
  },
  {
   "cell_type": "code",
   "execution_count": 178,
   "metadata": {
    "scrolled": true
   },
   "outputs": [
    {
     "data": {
      "text/plain": [
       "(24.5, 15.5)"
      ]
     },
     "execution_count": 178,
     "metadata": {},
     "output_type": "execute_result"
    },
    {
     "data": {
      "image/png": "[encoded data removed]",
      "text/plain": [
       "<Figure size 432x288 with 1 Axes>"
      ]
     },
     "metadata": {
      "needs_background": "light"
     },
     "output_type": "display_data"
    }
   ],
   "source": [
    "p = path.Path(poly_f475w_16b)\n",
    "\n",
    "color = tbdata['F475W_ACS_0'] - tbdata['F814W_ACS_0']\n",
    "mag = tbdata['F814W_ACS_0']\n",
    "points = []\n",
    "for c,m in zip(color, mag):\n",
    "    points.append([c,m])\n",
    "#print(points[0:2])\n",
    "m_sel_f475w_16b = p.contains_points(points)\n",
    "#print(color[m])\n",
    "\n",
    "plt.plot([a[0] for a in poly_f475w_16b], [a[1] for a in poly_f475w_16b], lw = 2, color='teal')\n",
    "plt.scatter(color,mag, s=10, alpha=0.5)\n",
    "plt.scatter(color[m_sel_f475w_16b],mag[m_sel_f475w_16b], s=20, alpha=0.75)\n",
    "plt.xlim(-1.5,4.5)\n",
    "plt.ylim(24.5,15.5)"
   ]
  },
  {
   "cell_type": "code",
   "execution_count": 179,
   "metadata": {},
   "outputs": [
    {
     "data": {
      "text/plain": [
       "(24.5, 15.5)"
      ]
     },
     "execution_count": 179,
     "metadata": {},
     "output_type": "execute_result"
    },
    {
     "data": {
      "image/png": "[encoded data removed]",
      "text/plain": [
       "<Figure size 432x288 with 1 Axes>"
      ]
     },
     "metadata": {
      "needs_background": "light"
     },
     "output_type": "display_data"
    }
   ],
   "source": [
    "p = path.Path(poly_f475w_18b)\n",
    "\n",
    "color = tbdata['F475W_VEGA_0'] - tbdata['F814W_VEGA_0']\n",
    "mag = tbdata['F814W_VEGA_0']\n",
    "points = []\n",
    "for c,m in zip(color, mag):\n",
    "    points.append([c,m])\n",
    "#print(points[0:2])\n",
    "m_sel_f475w_18b = p.contains_points(points)\n",
    "#print(color[m])\n",
    "\n",
    "plt.plot([a[0] for a in poly_f475w_18b], [a[1] for a in poly_f475w_18b], lw = 2, color='teal')\n",
    "plt.scatter(color,mag, s=10, alpha=0.5)\n",
    "plt.scatter(color[m_sel_f475w_18b],mag[m_sel_f475w_18b], s=20, alpha=0.75)\n",
    "plt.xlim(-1.5,4.5)\n",
    "plt.ylim(24.5,15.5)"
   ]
  },
  {
   "cell_type": "code",
   "execution_count": 180,
   "metadata": {
    "collapsed": true,
    "scrolled": true
   },
   "outputs": [],
   "source": [
    "# add an RGB selection column to tbdata\n",
    "selected = Column(Column(np.ones(len(tbdata))*np.nan, name='RGB_SELECTION'))\n",
    "tbdata.add_columns([selected])"
   ]
  },
  {
   "cell_type": "code",
   "execution_count": 181,
   "metadata": {
    "collapsed": true,
    "scrolled": true
   },
   "outputs": [],
   "source": [
    "tbdata['RGB_SELECTION'][m_sel_cfht] = 1\n",
    "tbdata['RGB_SELECTION'][m_sel_f606w] = 1\n",
    "tbdata['RGB_SELECTION'][m_sel_f475w_16b] = 1\n",
    "tbdata['RGB_SELECTION'][m_sel_f475w_18b] = 1\n",
    "#print(tbdata['RGB_SELECTION'])"
   ]
  },
  {
   "cell_type": "markdown",
   "metadata": {},
   "source": [
    "## Prep a Data Table for Velocity Analysis\n",
    "\n",
    "I want to keep all stars with zquality 3 or 4, and in the selection boxes.  \n",
    "\n",
    "I also want to remove duplicate velocity measurements, replacing them with one line, the velocity being the weighted average of the velocities.  And to use these repeat measurements to estimate the systematic velocity error.\n",
    "\n",
    "**Note: the following is not foolproof- once have more 18b masks, could have false objname overlap between 16B CFHT and HST targets.  But with initial complement of masks it works without fancier logic, so moving on.**"
   ]
  },
  {
   "cell_type": "code",
   "execution_count": 182,
   "metadata": {},
   "outputs": [
    {
     "name": "stdout",
     "output_type": "stream",
     "text": [
      "442\n"
     ]
    }
   ],
   "source": [
    "m_velfit = ((tbdata['ZQUALITY'] >= zqualityflag) & (tbdata['RGB_SELECTION'] == 1))\n",
    "print(len(tbdata[m_velfit]))"
   ]
  },
  {
   "cell_type": "code",
   "execution_count": 183,
   "metadata": {
    "collapsed": true
   },
   "outputs": [],
   "source": [
    "velfit_tbdata = tbdata[m_velfit]"
   ]
  },
  {
   "cell_type": "code",
   "execution_count": 184,
   "metadata": {
    "collapsed": true
   },
   "outputs": [],
   "source": [
    "dup = Column(Column(np.zeros(len(velfit_tbdata)), name='DUPLICATE'))\n",
    "velfit_tbdata.add_columns([dup])"
   ]
  },
  {
   "cell_type": "code",
   "execution_count": 185,
   "metadata": {
    "collapsed": true
   },
   "outputs": [],
   "source": [
    "# a very simple statement to figure out the scope of the problem\n",
    "duplicates = set([x for x in list(velfit_tbdata['OBJNAME']) if list(velfit_tbdata['OBJNAME']).count(x) > 1])"
   ]
  },
  {
   "cell_type": "code",
   "execution_count": 186,
   "metadata": {},
   "outputs": [
    {
     "name": "stdout",
     "output_type": "stream",
     "text": [
      "[23, 39, 42, 45, 46, 57, 60, 63, 64, 65, 66, 67, 70, 71, 206, 266]\n"
     ]
    }
   ],
   "source": [
    "# what I really want are indices however\n",
    "duplicates = [i for i, x in enumerate(list(velfit_tbdata['OBJNAME'])) if list(velfit_tbdata['OBJNAME']).count(x) > 1]\n",
    "print(duplicates)\n",
    "#print(velfit_tbdata['OBJNAME'][duplicates])\n",
    "\n",
    "not_duplicates = [i for i, x in enumerate(list(velfit_tbdata['OBJNAME'])) if list(velfit_tbdata['OBJNAME']).count(x) == 1]\n",
    "#print(not_duplicates)\n",
    "\n",
    "#print(len(velfit_tbdata['OBJNAME'][not_duplicates]))\n",
    "#print(len(velfit_tbdata['OBJNAME'][duplicates]))\n",
    "#print(len(velfit_tbdata['OBJNAME']))"
   ]
  },
  {
   "cell_type": "markdown",
   "metadata": {},
   "source": [
    "There are currently only 8, which is only 2% of the sample.  "
   ]
  },
  {
   "cell_type": "code",
   "execution_count": 187,
   "metadata": {},
   "outputs": [
    {
     "name": "stdout",
     "output_type": "stream",
     "text": [
      "16 426 442\n"
     ]
    }
   ],
   "source": [
    "velfit_tbdata_dups = velfit_tbdata[duplicates]\n",
    "velfit_tbdata_nodups = velfit_tbdata[not_duplicates]\n",
    "print(len(velfit_tbdata_dups), len(velfit_tbdata_nodups), len(velfit_tbdata))"
   ]
  },
  {
   "cell_type": "code",
   "execution_count": 188,
   "metadata": {
    "collapsed": true
   },
   "outputs": [],
   "source": [
    "def duplicate_velocities(datatable, keyval = 'OBJNAME', velflag = 40.):\n",
    "    # datatable: an astropy Table of data full of duplicate entries\n",
    "    # keyval: the Column on which to match\n",
    "    \n",
    "    for i,o in enumerate(list(datatable[keyval])):\n",
    "        # is o still in datatable[keyval] twice?\n",
    "        if list(datatable[keyval]).count(o) > 1:\n",
    "            #print(o,' is still in list twice: ',list(datatable[keyval]).count(o))\n",
    "            # identify indices\n",
    "            mi = [i for i,x in enumerate(list(datatable['OBJNAME'])) if x == o]\n",
    "            #print(datatable[keyval][mi], datatable['RA'][mi], datatable['DEC'][mi])\n",
    "            if len(datatable['VCORR'][mi]) !=2:\n",
    "                print('There are more than 2 matches for this object: ', o)\n",
    "            elif datatable['RA'][mi[0]] != datatable['RA'][mi[1]]:\n",
    "                print('Possible mismatch: ', datatable[keyval][mi], datatable['RA'][mi], datatable['DEC'][mi])\n",
    "            else:\n",
    "                print(datatable['VCORR'][mi], datatable['VERR'][mi], datatable['SN'][mi], datatable['ZQUALITY'][mi]) \n",
    "                weight_vel_sum, weight_snr_sum, weight = 0.0, 0.0, 0.0\n",
    "                for v,s,e in zip(datatable['VCORR'][mi], datatable['SN'][mi], datatable['VERR'][mi]):\n",
    "                    weight_vel_sum += v/e**2.\n",
    "                    weight_snr_sum += s/e**2.\n",
    "                    weight += e**-2.\n",
    "                print('weighted mean velocity: ', weight_vel_sum/weight)\n",
    "                print('weighted SNR: ', weight_snr_sum/weight)\n",
    "                print('standard error of weighted mean: ', np.sqrt(1./weight))\n",
    "                if (abs(datatable['VCORR'][mi[0]] - datatable['VCORR'][mi[1]]) >= velflag) \\\n",
    "                    and (datatable['ZQUALITY'][mi[0]] - datatable['ZQUALITY'][mi[1]] > 0):\n",
    "                    print('Large Discrepancy in VCORR, and differing zquality.  Taking row with zquality = 4')\n",
    "                    if datatable['ZQUALITY'][mi[0]] == 4:\n",
    "                        datatable['DUPLICATE'][mi[0]] = 1\n",
    "                        datatable['DUPLICATE'][mi[1]] = -999\n",
    "                    else:\n",
    "                        datatable['DUPLICATE'][mi[0]] = -999\n",
    "                        datatable['DUPLICATE'][mi[1]] = 1\n",
    "                else:\n",
    "                    datatable['VCORR'][mi[0]] = weight_vel_sum/weight\n",
    "                    datatable['VERR'][mi[0]] = np.sqrt(1./weight)\n",
    "                    datatable['SN'][mi[0]] = weight_snr_sum/weight\n",
    "                    datatable['DUPLICATE'][mi[0]] = 1\n",
    "                    datatable['DUPLICATE'][mi[1]] = -999\n",
    "                #newmask = datatable['MASKNAME'][mi[0]]+';'+datatable['MASKNAME'][mi[1]]\n",
    "                #print('new maskname: ', newmask)\n",
    "                #row['MASKNAME'] = newmask\n",
    "                    \n",
    "            #if i == 0:\n",
    "            #    datatable_unique = row\n",
    "            #else:\n",
    "            #    datatable_unique = vstack((datatable_unique,row))\n",
    "                     \n",
    "    return"
   ]
  },
  {
   "cell_type": "code",
   "execution_count": 189,
   "metadata": {},
   "outputs": [
    {
     "name": "stdout",
     "output_type": "stream",
     "text": [
      "    VCORR     \n",
      "    km / s    \n",
      "--------------\n",
      "-123.281794418\n",
      "-119.347526163   VERR \n",
      " km / s\n",
      "-------\n",
      "13.3244\n",
      "3.61406    SN  \n",
      "-------\n",
      "8.14158\n",
      "8.06941 ZQUALITY\n",
      "--------\n",
      "       4\n",
      "       4\n",
      "weighted mean velocity:  -119.617132264\n",
      "weighted SNR:  8.07435884224\n",
      "standard error of weighted mean:  3.48803583615\n",
      "    VCORR     \n",
      "    km / s    \n",
      "--------------\n",
      "-122.189525059\n",
      "-98.9745602946   VERR \n",
      " km / s\n",
      "-------\n",
      "2.45092\n",
      "2.72428    SN  \n",
      "-------\n",
      "21.3772\n",
      "18.3031 ZQUALITY\n",
      "--------\n",
      "       4\n",
      "       4\n",
      "weighted mean velocity:  -111.804895082\n",
      "weighted SNR:  20.0020747524\n",
      "standard error of weighted mean:  1.82206293595\n",
      "    VCORR     \n",
      "    km / s    \n",
      "--------------\n",
      " -139.31414977\n",
      "-173.244467681    VERR  \n",
      "  km / s \n",
      "---------\n",
      "-299792.0\n",
      "  13.4806    SN  \n",
      "-------\n",
      "5.22721\n",
      "5.80943 ZQUALITY\n",
      "--------\n",
      "       4\n",
      "       4\n",
      "weighted mean velocity:  -173.244467613\n",
      "weighted SNR:  5.80942964436\n",
      "standard error of weighted mean:  13.4805621965\n",
      "    VCORR     \n",
      "    km / s    \n",
      "--------------\n",
      "-151.080785138\n",
      "-145.127293978   VERR \n",
      " km / s\n",
      "-------\n",
      "3.48469\n",
      "2.32888    SN  \n",
      "-------\n",
      "11.6721\n",
      " 17.124 ZQUALITY\n",
      "--------\n",
      "       4\n",
      "       4\n",
      "weighted mean velocity:  -146.965417145\n",
      "weighted SNR:  15.440711842\n",
      "standard error of weighted mean:  1.93626881227\n",
      "    VCORR     \n",
      "    km / s    \n",
      "--------------\n",
      "-78.9515388341\n",
      "-85.3455271706   VERR  \n",
      " km / s \n",
      "--------\n",
      " 1.29753\n",
      "0.741583    SN  \n",
      "-------\n",
      "18.7122\n",
      "35.7834 ZQUALITY\n",
      "--------\n",
      "       4\n",
      "       4\n",
      "weighted mean velocity:  -83.7711770815\n",
      "weighted SNR:  31.5800905856\n",
      "standard error of weighted mean:  0.643844345902\n",
      "    VCORR     \n",
      "    km / s    \n",
      "--------------\n",
      " -280.43020734\n",
      "-192.636283713   VERR \n",
      " km / s\n",
      "-------\n",
      "9.65519\n",
      "8.57478    SN  \n",
      "-------\n",
      "3.18855\n",
      "3.89833 ZQUALITY\n",
      "--------\n",
      "       4\n",
      "       3\n",
      "weighted mean velocity:  -231.348293053\n",
      "weighted SNR:  3.58535789717\n",
      "standard error of weighted mean:  6.4113787028\n",
      "Large Discrepancy in VCORR, and differing zquality.  Taking row with zquality = 4\n",
      "    VCORR     \n",
      "    km / s    \n",
      "--------------\n",
      "-182.733304854\n",
      "-182.497847324    VERR  \n",
      "  km / s \n",
      "---------\n",
      "  6.43599\n",
      "-299792.0    SN  \n",
      "-------\n",
      "7.90075\n",
      "8.24303 ZQUALITY\n",
      "--------\n",
      "       4\n",
      "       4\n",
      "weighted mean velocity:  -182.733304854\n",
      "weighted SNR:  7.9007530214\n",
      "standard error of weighted mean:  6.43598747105\n",
      "    VCORR     \n",
      "    km / s    \n",
      "--------------\n",
      "-119.617132264\n",
      "-119.347526163   VERR \n",
      " km / s\n",
      "-------\n",
      "3.48804\n",
      "3.61406    SN  \n",
      "-------\n",
      "8.07436\n",
      "8.06941 ZQUALITY\n",
      "--------\n",
      "       4\n",
      "       4\n",
      "weighted mean velocity:  -119.487111953\n",
      "weighted SNR:  8.07197379897\n",
      "standard error of weighted mean:  2.50978601015\n",
      "    VCORR     \n",
      "    km / s    \n",
      "--------------\n",
      "-111.804895082\n",
      "-98.9745602946   VERR \n",
      " km / s\n",
      "-------\n",
      "1.82206\n",
      "2.72428    SN  \n",
      "-------\n",
      "20.0021\n",
      "18.3031 ZQUALITY\n",
      "--------\n",
      "       4\n",
      "       4\n",
      "weighted mean velocity:  -107.839422176\n",
      "weighted SNR:  19.4769841368\n",
      "standard error of weighted mean:  1.51453869692\n",
      "    VCORR     \n",
      "    km / s    \n",
      "--------------\n",
      "-173.244467613\n",
      "-173.244467681   VERR \n",
      " km / s\n",
      "-------\n",
      "13.4806\n",
      "13.4806    SN  \n",
      "-------\n",
      "5.80943\n",
      "5.80943 ZQUALITY\n",
      "--------\n",
      "       4\n",
      "       4\n",
      "weighted mean velocity:  -173.244467647\n",
      "weighted SNR:  5.80942964554\n",
      "standard error of weighted mean:  9.53219695296\n",
      "    VCORR     \n",
      "    km / s    \n",
      "--------------\n",
      "-146.965417145\n",
      "-145.127293978   VERR \n",
      " km / s\n",
      "-------\n",
      "1.93627\n",
      "2.32888    SN  \n",
      "-------\n",
      "15.4407\n",
      " 17.124 ZQUALITY\n",
      "--------\n",
      "       4\n",
      "       4\n",
      "weighted mean velocity:  -146.214135088\n",
      "weighted SNR:  16.1286956385\n",
      "standard error of weighted mean:  1.48888574937\n",
      "    VCORR     \n",
      "    km / s    \n",
      "--------------\n",
      "-83.7711770815\n",
      "-85.3455271706   VERR  \n",
      " km / s \n",
      "--------\n",
      "0.643844\n",
      "0.741583    SN  \n",
      "-------\n",
      "31.5801\n",
      "35.7834 ZQUALITY\n",
      "--------\n",
      "       4\n",
      "       4\n",
      "weighted mean velocity:  -84.4478357984\n",
      "weighted SNR:  33.3866970152\n",
      "standard error of weighted mean:  0.486176282862\n",
      "    VCORR     \n",
      "    km / s    \n",
      "--------------\n",
      " -280.43020734\n",
      "-192.636283713   VERR \n",
      " km / s\n",
      "-------\n",
      "9.65519\n",
      "8.57478    SN  \n",
      "-------\n",
      "3.18855\n",
      "3.89833 ZQUALITY\n",
      "--------\n",
      "       4\n",
      "       3\n",
      "weighted mean velocity:  -231.348293053\n",
      "weighted SNR:  3.58535789717\n",
      "standard error of weighted mean:  6.4113787028\n",
      "Large Discrepancy in VCORR, and differing zquality.  Taking row with zquality = 4\n",
      "    VCORR     \n",
      "    km / s    \n",
      "--------------\n",
      "-182.733304854\n",
      "-182.497847324    VERR  \n",
      "  km / s \n",
      "---------\n",
      "  6.43599\n",
      "-299792.0    SN  \n",
      "-------\n",
      "7.90075\n",
      "8.24303 ZQUALITY\n",
      "--------\n",
      "       4\n",
      "       4\n",
      "weighted mean velocity:  -182.733304854\n",
      "weighted SNR:  7.9007530214\n",
      "standard error of weighted mean:  6.43598747105\n",
      "    VCORR     \n",
      "    km / s    \n",
      "--------------\n",
      "-83.5970205768\n",
      "-76.5030173763   VERR \n",
      " km / s\n",
      "-------\n",
      "1.61499\n",
      "2.46456    SN  \n",
      "-------\n",
      "22.4055\n",
      "13.2205 ZQUALITY\n",
      "--------\n",
      "       4\n",
      "       4\n",
      "weighted mean velocity:  -81.4659488394\n",
      "weighted SNR:  19.6462612429\n",
      "standard error of weighted mean:  1.35080435392\n",
      "    VCORR     \n",
      "    km / s    \n",
      "--------------\n",
      "-81.4659488394\n",
      "-76.5030173763   VERR \n",
      " km / s\n",
      "-------\n",
      " 1.3508\n",
      "2.46456    SN  \n",
      "-------\n",
      "19.6463\n",
      "13.2205 ZQUALITY\n",
      "--------\n",
      "       4\n",
      "       4\n",
      "weighted mean velocity:  -80.3194689738\n",
      "weighted SNR:  18.1618647835\n",
      "standard error of weighted mean:  1.18454941958\n"
     ]
    }
   ],
   "source": [
    "duplicate_velocities(velfit_tbdata_dups)"
   ]
  },
  {
   "cell_type": "code",
   "execution_count": 198,
   "metadata": {},
   "outputs": [
    {
     "name": "stdout",
     "output_type": "stream",
     "text": [
      "DUPLICATE\n",
      "---------\n",
      "      1.0\n",
      "      1.0\n",
      "      1.0\n",
      "      1.0\n",
      "      1.0\n",
      "      1.0\n",
      "      1.0\n",
      "   -999.0\n",
      "   -999.0\n",
      "   -999.0\n",
      "   -999.0\n",
      "   -999.0\n",
      "   -999.0\n",
      "   -999.0\n",
      "      1.0\n",
      "   -999.0\n"
     ]
    }
   ],
   "source": [
    "print(velfit_tbdata_dups['DUPLICATE'])"
   ]
  },
  {
   "cell_type": "code",
   "execution_count": 199,
   "metadata": {},
   "outputs": [
    {
     "name": "stdout",
     "output_type": "stream",
     "text": [
      "   SN  \n",
      "-------\n",
      "8.07197\n",
      " 19.477\n",
      "5.80943\n",
      "16.1287\n",
      "33.3867\n",
      "3.18855\n",
      "7.90075\n",
      "8.06941\n",
      "18.3031\n",
      "5.80943\n",
      " 17.124\n",
      "35.7834\n",
      "3.89833\n",
      "8.24303\n",
      "18.1619\n",
      "13.2205\n"
     ]
    }
   ],
   "source": [
    "print(velfit_tbdata_dups['SN'])"
   ]
  },
  {
   "cell_type": "code",
   "execution_count": 200,
   "metadata": {
    "collapsed": true
   },
   "outputs": [],
   "source": [
    "velfit_tbdata_use = vstack((velfit_tbdata_nodups, velfit_tbdata_dups))"
   ]
  },
  {
   "cell_type": "code",
   "execution_count": 201,
   "metadata": {},
   "outputs": [
    {
     "name": "stdout",
     "output_type": "stream",
     "text": [
      "442\n",
      "426\n",
      "16\n"
     ]
    }
   ],
   "source": [
    "print(len(velfit_tbdata_use))\n",
    "print(len(velfit_tbdata_nodups))\n",
    "print(len(velfit_tbdata_dups))"
   ]
  },
  {
   "cell_type": "code",
   "execution_count": 202,
   "metadata": {
    "collapsed": true
   },
   "outputs": [],
   "source": [
    "m = (velfit_tbdata_use['DUPLICATE'] >= 0)\n",
    "#print(velfit_tbdata_use['DUPLICATE'][m])"
   ]
  },
  {
   "cell_type": "code",
   "execution_count": 203,
   "metadata": {},
   "outputs": [
    {
     "data": {
      "text/plain": [
       "Text(0, 0.5, 'Dec')"
      ]
     },
     "execution_count": 203,
     "metadata": {},
     "output_type": "execute_result"
    },
    {
     "data": {
      "image/png": "[encoded data removed]",
      "text/plain": [
       "<Figure size 432x288 with 2 Axes>"
      ]
     },
     "metadata": {
      "needs_background": "light"
     },
     "output_type": "display_data"
    }
   ],
   "source": [
    "sc = SkyCoord(ra=velfit_tbdata_use['RA'], dec=velfit_tbdata_use['DEC'], unit=(u.hourangle, u.deg))\n",
    "\n",
    "colorvals = velfit_tbdata_use['VCORR'][m]\n",
    "cmap_choice = 'viridis'\n",
    "\n",
    "vc = plt.scatter(sc[m].ra.deg, sc[m].dec.deg, c=colorvals, s=10)\n",
    "plt.scatter(m33coord.ra.deg, m33coord.dec.deg, s=500, marker=\"*\", c='fuchsia')\n",
    "\n",
    "cbar = plt.colorbar(vc)\n",
    "cbar.ax.set_ylabel('Velocity (km s$^{-1}$)')\n",
    "cbar.set_alpha(1)\n",
    "cbar.draw_all()\n",
    "\n",
    "plt.xlim(23.7,23.1)\n",
    "plt.xlabel('RA')\n",
    "plt.ylabel('Dec')"
   ]
  },
  {
   "cell_type": "code",
   "execution_count": 204,
   "metadata": {},
   "outputs": [
    {
     "name": "stdout",
     "output_type": "stream",
     "text": [
      "CLASS       SUBCLASS      OBJNAME  ...    EBV_SFD98    RGB_SELECTION DUPLICATE\n",
      "                                   ...                                        \n",
      "------ ----------------- --------- ... --------------- ------------- ---------\n",
      "STAR   HD061913 M2II-III 5003038   ...   0.04495218735           1.0       0.0\n",
      "STAR   HD061913 M2II-III 181325    ... 0.0490290234572           1.0       0.0\n",
      "STAR   HD52005 K4Iab     198740    ... 0.0489114984083           1.0       0.0\n",
      "STAR   HD061913 M2II-III 212176    ... 0.0462441454975           1.0       0.0\n",
      "STAR   HD061913 M2II-III 220006    ... 0.0457043538137           1.0       0.0\n",
      "STAR   HD60522 M0III     226705    ... 0.0459817780838           1.0       0.0\n",
      "STAR   HD151217 K5III    227559    ... 0.0455636522564           1.0       0.0\n",
      "STAR   HD151217 K5III    229794    ... 0.0455396729282           1.0       0.0\n",
      "STAR   HD197572 F7Ib     238675    ... 0.0454111446086           1.0       0.0\n",
      "STAR   HD164349 K0.5IIb  11000985  ... 0.0434641536463           1.0       0.0\n",
      "   ...               ...       ... ...             ...           ...       ...\n",
      "STAR   HD52005 K4Iab     12002934  ... 0.0470210614239           1.0       1.0\n",
      "STAR   HD164349 K0.5IIb  11011192  ...  0.043393208953           1.0    -999.0\n",
      "STAR   HD061913 M2II-III 10004657  ...  0.044262007152           1.0    -999.0\n",
      "STAR   HD60522 M0III     10005476  ... 0.0448971979321           1.0    -999.0\n",
      "STAR   HD113285 M8III    10006107  ... 0.0444250189743           1.0    -999.0\n",
      "STAR   HD164136 F2II     10006286  ... 0.0438722112323           1.0    -999.0\n",
      "STAR   HD164349 K0.5IIb  12001920  ... 0.0462340574108           1.0    -999.0\n",
      "STAR   HD52005 K4Iab     12002934  ... 0.0470210614239           1.0    -999.0\n",
      "STAR   HD164349 K0.5IIb  7006294   ... 0.0478121983209           1.0       1.0\n",
      "STAR   HD197572 F7Ib     7006294   ... 0.0478121983209           1.0    -999.0\n",
      "Length = 442 rows\n"
     ]
    }
   ],
   "source": [
    "print(velfit_tbdata_use)"
   ]
  },
  {
   "cell_type": "code",
   "execution_count": 206,
   "metadata": {
    "collapsed": true
   },
   "outputs": [],
   "source": [
    "filename = 'm33_velocitydata.fits'\n",
    "velfit_tbdata_use.write(filename)\n",
    "#velfit_tbdata_use.write(filename, overwrite = True)"
   ]
  },
  {
   "cell_type": "code",
   "execution_count": null,
   "metadata": {
    "collapsed": true
   },
   "outputs": [],
   "source": []
  }
 ],
 "metadata": {
  "kernelspec": {
   "display_name": "Python 3",
   "language": "python",
   "name": "python3"
  },
  "language_info": {
   "codemirror_mode": {
    "name": "ipython",
    "version": 3
   },
   "file_extension": ".py",
   "mimetype": "text/x-python",
   "name": "python",
   "nbconvert_exporter": "python",
   "pygments_lexer": "ipython3",
   "version": "3.6.2"
  }
 },
 "nbformat": 4,
 "nbformat_minor": 2
}
